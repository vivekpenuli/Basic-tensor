{
  "nbformat": 4,
  "nbformat_minor": 0,
  "metadata": {
    "colab": {
      "name": " Basic tensor operation",
      "provenance": [],
      "collapsed_sections": [],
      "authorship_tag": "ABX9TyNdck1sIz0b4KyPzLevwuYU",
      "include_colab_link": true
    },
    "kernelspec": {
      "name": "python3",
      "display_name": "Python 3"
    }
  },
  "cells": [
    {
      "cell_type": "markdown",
      "metadata": {
        "id": "view-in-github",
        "colab_type": "text"
      },
      "source": [
        "<a href=\"https://colab.research.google.com/github/vivekpenuli/Basic-tensor/blob/master/Basic_tensor_operation1.ipynb\" target=\"_parent\"><img src=\"https://colab.research.google.com/assets/colab-badge.svg\" alt=\"Open In Colab\"/></a>"
      ]
    },
    {
      "cell_type": "code",
      "metadata": {
        "id": "cseJbiKcknRc",
        "colab_type": "code",
        "colab": {}
      },
      "source": [
        "%tensorflow_version 1.x"
      ],
      "execution_count": 5,
      "outputs": []
    },
    {
      "cell_type": "code",
      "metadata": {
        "id": "YEv6IjfYkw2O",
        "colab_type": "code",
        "colab": {
          "base_uri": "https://localhost:8080/",
          "height": 34
        },
        "outputId": "f03702d8-fd7c-49bb-8919-53af3bd2c70f"
      },
      "source": [
        "import tensorflow as tf\n",
        "print(tensorflow.__version__)"
      ],
      "execution_count": 6,
      "outputs": [
        {
          "output_type": "stream",
          "text": [
            "1.15.2\n"
          ],
          "name": "stdout"
        }
      ]
    },
    {
      "cell_type": "code",
      "metadata": {
        "id": "ay-kBAJ-kw6L",
        "colab_type": "code",
        "colab": {}
      },
      "source": [
        "a=tf.constant('hello')"
      ],
      "execution_count": 18,
      "outputs": []
    },
    {
      "cell_type": "code",
      "metadata": {
        "id": "kzmOwXjtkw9o",
        "colab_type": "code",
        "colab": {
          "base_uri": "https://localhost:8080/",
          "height": 34
        },
        "outputId": "ccb831ca-7b27-4834-e8e6-18fdb02fd492"
      },
      "source": [
        "a"
      ],
      "execution_count": 19,
      "outputs": [
        {
          "output_type": "execute_result",
          "data": {
            "text/plain": [
              "<tf.Tensor 'Const_4:0' shape=() dtype=string>"
            ]
          },
          "metadata": {
            "tags": []
          },
          "execution_count": 19
        }
      ]
    },
    {
      "cell_type": "code",
      "metadata": {
        "id": "1aeLkhbZkxA6",
        "colab_type": "code",
        "colab": {}
      },
      "source": [
        "b=tf.constant(\"world\")"
      ],
      "execution_count": 20,
      "outputs": []
    },
    {
      "cell_type": "code",
      "metadata": {
        "id": "msnuYi_kkxEt",
        "colab_type": "code",
        "colab": {
          "base_uri": "https://localhost:8080/",
          "height": 51
        },
        "outputId": "dc9d9a32-d4a4-4123-a864-b6f4209b6a35"
      },
      "source": [
        "with tf.Session() as sess:\n",
        "  result=sess.run(a+b)\n",
        "  apple=sess.run(a)\n",
        "\n",
        "print(result)\n",
        "print(\" \",apple)"
      ],
      "execution_count": 65,
      "outputs": [
        {
          "output_type": "stream",
          "text": [
            "b'helloworld'\n",
            "  b'hello'\n"
          ],
          "name": "stdout"
        }
      ]
    },
    {
      "cell_type": "code",
      "metadata": {
        "id": "gD0AKGSLkxH7",
        "colab_type": "code",
        "colab": {}
      },
      "source": [
        "c=tf.constant(22)\n",
        "d=tf.constant(56)\n",
        "e=c+d"
      ],
      "execution_count": 22,
      "outputs": []
    },
    {
      "cell_type": "code",
      "metadata": {
        "id": "gL1KdxLPm4RL",
        "colab_type": "code",
        "colab": {
          "base_uri": "https://localhost:8080/",
          "height": 34
        },
        "outputId": "dca32700-1f2f-4509-b9ac-7f5eae1ff8bb"
      },
      "source": [
        "with tf.Session() as sess:\n",
        "  result2=sess.run(c+d)\n",
        "print(result2)"
      ],
      "execution_count": 23,
      "outputs": [
        {
          "output_type": "stream",
          "text": [
            "78\n"
          ],
          "name": "stdout"
        }
      ]
    },
    {
      "cell_type": "markdown",
      "metadata": {
        "id": "dj68Il8NnpZq",
        "colab_type": "text"
      },
      "source": [
        "#  part -2"
      ]
    },
    {
      "cell_type": "code",
      "metadata": {
        "id": "GFzDNQ4Nm4WF",
        "colab_type": "code",
        "colab": {
          "base_uri": "https://localhost:8080/",
          "height": 88
        },
        "outputId": "2e5a0ab2-8f28-42ba-fa08-7ce958d2cf38"
      },
      "source": [
        "sess=tf.InteractiveSession()\n",
        "my_tensor=tf.random_uniform((5,5),0,2)\n",
        "my_tensor"
      ],
      "execution_count": 24,
      "outputs": [
        {
          "output_type": "stream",
          "text": [
            "/tensorflow-1.15.2/python3.6/tensorflow_core/python/client/session.py:1750: UserWarning: An interactive session is already active. This can cause out-of-memory errors in some cases. You must explicitly call `InteractiveSession.close()` to release resources held by the other session(s).\n",
            "  warnings.warn('An interactive session is already active. This can '\n"
          ],
          "name": "stderr"
        },
        {
          "output_type": "execute_result",
          "data": {
            "text/plain": [
              "<tf.Tensor 'random_uniform_1:0' shape=(5, 5) dtype=float32>"
            ]
          },
          "metadata": {
            "tags": []
          },
          "execution_count": 24
        }
      ]
    },
    {
      "cell_type": "code",
      "metadata": {
        "id": "ftzMD_pCm4Z7",
        "colab_type": "code",
        "colab": {
          "base_uri": "https://localhost:8080/",
          "height": 119
        },
        "outputId": "d84b27ce-a971-4a12-8913-71ceefec40e4"
      },
      "source": [
        "sess.run(my_tensor)"
      ],
      "execution_count": 25,
      "outputs": [
        {
          "output_type": "execute_result",
          "data": {
            "text/plain": [
              "array([[0.5536978 , 1.4834664 , 0.27086806, 0.3692429 , 0.81633687],\n",
              "       [0.87525535, 0.33412123, 0.94130087, 0.9679179 , 1.6698661 ],\n",
              "       [1.9393542 , 0.6548865 , 0.3754933 , 0.62685084, 0.6513746 ],\n",
              "       [0.737802  , 1.2333078 , 0.49139142, 0.6137719 , 1.919038  ],\n",
              "       [0.6843798 , 1.6757426 , 0.46541715, 0.10995817, 0.8965926 ]],\n",
              "      dtype=float32)"
            ]
          },
          "metadata": {
            "tags": []
          },
          "execution_count": 25
        }
      ]
    },
    {
      "cell_type": "code",
      "metadata": {
        "id": "wb8f9w4hn9B3",
        "colab_type": "code",
        "colab": {}
      },
      "source": [
        "var1=tf.Variable(initial_value=my_tensor)"
      ],
      "execution_count": 26,
      "outputs": []
    },
    {
      "cell_type": "code",
      "metadata": {
        "id": "L_Pmfu0uo5ZC",
        "colab_type": "code",
        "colab": {
          "base_uri": "https://localhost:8080/",
          "height": 34
        },
        "outputId": "9d0f18aa-4583-4131-9ff0-6ea07a9a27b4"
      },
      "source": [
        "print(var1)"
      ],
      "execution_count": 27,
      "outputs": [
        {
          "output_type": "stream",
          "text": [
            "<tf.Variable 'Variable_1:0' shape=(5, 5) dtype=float32_ref>\n"
          ],
          "name": "stdout"
        }
      ]
    },
    {
      "cell_type": "code",
      "metadata": {
        "id": "FjC5U5VKo7Fs",
        "colab_type": "code",
        "colab": {
          "base_uri": "https://localhost:8080/",
          "height": 459
        },
        "outputId": "0de7e743-43c6-4119-aa67-0c860ae3d49d"
      },
      "source": [
        "sess.run(var1)"
      ],
      "execution_count": 28,
      "outputs": [
        {
          "output_type": "error",
          "ename": "FailedPreconditionError",
          "evalue": "ignored",
          "traceback": [
            "\u001b[0;31m---------------------------------------------------------------------------\u001b[0m",
            "\u001b[0;31mFailedPreconditionError\u001b[0m                   Traceback (most recent call last)",
            "\u001b[0;32m/tensorflow-1.15.2/python3.6/tensorflow_core/python/client/session.py\u001b[0m in \u001b[0;36m_do_call\u001b[0;34m(self, fn, *args)\u001b[0m\n\u001b[1;32m   1364\u001b[0m     \u001b[0;32mtry\u001b[0m\u001b[0;34m:\u001b[0m\u001b[0;34m\u001b[0m\u001b[0;34m\u001b[0m\u001b[0m\n\u001b[0;32m-> 1365\u001b[0;31m       \u001b[0;32mreturn\u001b[0m \u001b[0mfn\u001b[0m\u001b[0;34m(\u001b[0m\u001b[0;34m*\u001b[0m\u001b[0margs\u001b[0m\u001b[0;34m)\u001b[0m\u001b[0;34m\u001b[0m\u001b[0;34m\u001b[0m\u001b[0m\n\u001b[0m\u001b[1;32m   1366\u001b[0m     \u001b[0;32mexcept\u001b[0m \u001b[0merrors\u001b[0m\u001b[0;34m.\u001b[0m\u001b[0mOpError\u001b[0m \u001b[0;32mas\u001b[0m \u001b[0me\u001b[0m\u001b[0;34m:\u001b[0m\u001b[0;34m\u001b[0m\u001b[0;34m\u001b[0m\u001b[0m\n",
            "\u001b[0;32m/tensorflow-1.15.2/python3.6/tensorflow_core/python/client/session.py\u001b[0m in \u001b[0;36m_run_fn\u001b[0;34m(feed_dict, fetch_list, target_list, options, run_metadata)\u001b[0m\n\u001b[1;32m   1349\u001b[0m       return self._call_tf_sessionrun(options, feed_dict, fetch_list,\n\u001b[0;32m-> 1350\u001b[0;31m                                       target_list, run_metadata)\n\u001b[0m\u001b[1;32m   1351\u001b[0m \u001b[0;34m\u001b[0m\u001b[0m\n",
            "\u001b[0;32m/tensorflow-1.15.2/python3.6/tensorflow_core/python/client/session.py\u001b[0m in \u001b[0;36m_call_tf_sessionrun\u001b[0;34m(self, options, feed_dict, fetch_list, target_list, run_metadata)\u001b[0m\n\u001b[1;32m   1442\u001b[0m                                             \u001b[0mfetch_list\u001b[0m\u001b[0;34m,\u001b[0m \u001b[0mtarget_list\u001b[0m\u001b[0;34m,\u001b[0m\u001b[0;34m\u001b[0m\u001b[0;34m\u001b[0m\u001b[0m\n\u001b[0;32m-> 1443\u001b[0;31m                                             run_metadata)\n\u001b[0m\u001b[1;32m   1444\u001b[0m \u001b[0;34m\u001b[0m\u001b[0m\n",
            "\u001b[0;31mFailedPreconditionError\u001b[0m: Attempting to use uninitialized value Variable_1\n\t [[{{node _retval_Variable_1_0_0}}]]",
            "\nDuring handling of the above exception, another exception occurred:\n",
            "\u001b[0;31mFailedPreconditionError\u001b[0m                   Traceback (most recent call last)",
            "\u001b[0;32m<ipython-input-28-0b167dcedc00>\u001b[0m in \u001b[0;36m<module>\u001b[0;34m()\u001b[0m\n\u001b[0;32m----> 1\u001b[0;31m \u001b[0msess\u001b[0m\u001b[0;34m.\u001b[0m\u001b[0mrun\u001b[0m\u001b[0;34m(\u001b[0m\u001b[0mvar1\u001b[0m\u001b[0;34m)\u001b[0m\u001b[0;34m\u001b[0m\u001b[0;34m\u001b[0m\u001b[0m\n\u001b[0m",
            "\u001b[0;32m/tensorflow-1.15.2/python3.6/tensorflow_core/python/client/session.py\u001b[0m in \u001b[0;36mrun\u001b[0;34m(self, fetches, feed_dict, options, run_metadata)\u001b[0m\n\u001b[1;32m    954\u001b[0m     \u001b[0;32mtry\u001b[0m\u001b[0;34m:\u001b[0m\u001b[0;34m\u001b[0m\u001b[0;34m\u001b[0m\u001b[0m\n\u001b[1;32m    955\u001b[0m       result = self._run(None, fetches, feed_dict, options_ptr,\n\u001b[0;32m--> 956\u001b[0;31m                          run_metadata_ptr)\n\u001b[0m\u001b[1;32m    957\u001b[0m       \u001b[0;32mif\u001b[0m \u001b[0mrun_metadata\u001b[0m\u001b[0;34m:\u001b[0m\u001b[0;34m\u001b[0m\u001b[0;34m\u001b[0m\u001b[0m\n\u001b[1;32m    958\u001b[0m         \u001b[0mproto_data\u001b[0m \u001b[0;34m=\u001b[0m \u001b[0mtf_session\u001b[0m\u001b[0;34m.\u001b[0m\u001b[0mTF_GetBuffer\u001b[0m\u001b[0;34m(\u001b[0m\u001b[0mrun_metadata_ptr\u001b[0m\u001b[0;34m)\u001b[0m\u001b[0;34m\u001b[0m\u001b[0;34m\u001b[0m\u001b[0m\n",
            "\u001b[0;32m/tensorflow-1.15.2/python3.6/tensorflow_core/python/client/session.py\u001b[0m in \u001b[0;36m_run\u001b[0;34m(self, handle, fetches, feed_dict, options, run_metadata)\u001b[0m\n\u001b[1;32m   1178\u001b[0m     \u001b[0;32mif\u001b[0m \u001b[0mfinal_fetches\u001b[0m \u001b[0;32mor\u001b[0m \u001b[0mfinal_targets\u001b[0m \u001b[0;32mor\u001b[0m \u001b[0;34m(\u001b[0m\u001b[0mhandle\u001b[0m \u001b[0;32mand\u001b[0m \u001b[0mfeed_dict_tensor\u001b[0m\u001b[0;34m)\u001b[0m\u001b[0;34m:\u001b[0m\u001b[0;34m\u001b[0m\u001b[0;34m\u001b[0m\u001b[0m\n\u001b[1;32m   1179\u001b[0m       results = self._do_run(handle, final_targets, final_fetches,\n\u001b[0;32m-> 1180\u001b[0;31m                              feed_dict_tensor, options, run_metadata)\n\u001b[0m\u001b[1;32m   1181\u001b[0m     \u001b[0;32melse\u001b[0m\u001b[0;34m:\u001b[0m\u001b[0;34m\u001b[0m\u001b[0;34m\u001b[0m\u001b[0m\n\u001b[1;32m   1182\u001b[0m       \u001b[0mresults\u001b[0m \u001b[0;34m=\u001b[0m \u001b[0;34m[\u001b[0m\u001b[0;34m]\u001b[0m\u001b[0;34m\u001b[0m\u001b[0;34m\u001b[0m\u001b[0m\n",
            "\u001b[0;32m/tensorflow-1.15.2/python3.6/tensorflow_core/python/client/session.py\u001b[0m in \u001b[0;36m_do_run\u001b[0;34m(self, handle, target_list, fetch_list, feed_dict, options, run_metadata)\u001b[0m\n\u001b[1;32m   1357\u001b[0m     \u001b[0;32mif\u001b[0m \u001b[0mhandle\u001b[0m \u001b[0;32mis\u001b[0m \u001b[0;32mNone\u001b[0m\u001b[0;34m:\u001b[0m\u001b[0;34m\u001b[0m\u001b[0;34m\u001b[0m\u001b[0m\n\u001b[1;32m   1358\u001b[0m       return self._do_call(_run_fn, feeds, fetches, targets, options,\n\u001b[0;32m-> 1359\u001b[0;31m                            run_metadata)\n\u001b[0m\u001b[1;32m   1360\u001b[0m     \u001b[0;32melse\u001b[0m\u001b[0;34m:\u001b[0m\u001b[0;34m\u001b[0m\u001b[0;34m\u001b[0m\u001b[0m\n\u001b[1;32m   1361\u001b[0m       \u001b[0;32mreturn\u001b[0m \u001b[0mself\u001b[0m\u001b[0;34m.\u001b[0m\u001b[0m_do_call\u001b[0m\u001b[0;34m(\u001b[0m\u001b[0m_prun_fn\u001b[0m\u001b[0;34m,\u001b[0m \u001b[0mhandle\u001b[0m\u001b[0;34m,\u001b[0m \u001b[0mfeeds\u001b[0m\u001b[0;34m,\u001b[0m \u001b[0mfetches\u001b[0m\u001b[0;34m)\u001b[0m\u001b[0;34m\u001b[0m\u001b[0;34m\u001b[0m\u001b[0m\n",
            "\u001b[0;32m/tensorflow-1.15.2/python3.6/tensorflow_core/python/client/session.py\u001b[0m in \u001b[0;36m_do_call\u001b[0;34m(self, fn, *args)\u001b[0m\n\u001b[1;32m   1382\u001b[0m                     \u001b[0;34m'\\nsession_config.graph_options.rewrite_options.'\u001b[0m\u001b[0;34m\u001b[0m\u001b[0;34m\u001b[0m\u001b[0m\n\u001b[1;32m   1383\u001b[0m                     'disable_meta_optimizer = True')\n\u001b[0;32m-> 1384\u001b[0;31m       \u001b[0;32mraise\u001b[0m \u001b[0mtype\u001b[0m\u001b[0;34m(\u001b[0m\u001b[0me\u001b[0m\u001b[0;34m)\u001b[0m\u001b[0;34m(\u001b[0m\u001b[0mnode_def\u001b[0m\u001b[0;34m,\u001b[0m \u001b[0mop\u001b[0m\u001b[0;34m,\u001b[0m \u001b[0mmessage\u001b[0m\u001b[0;34m)\u001b[0m\u001b[0;34m\u001b[0m\u001b[0;34m\u001b[0m\u001b[0m\n\u001b[0m\u001b[1;32m   1385\u001b[0m \u001b[0;34m\u001b[0m\u001b[0m\n\u001b[1;32m   1386\u001b[0m   \u001b[0;32mdef\u001b[0m \u001b[0m_extend_graph\u001b[0m\u001b[0;34m(\u001b[0m\u001b[0mself\u001b[0m\u001b[0;34m)\u001b[0m\u001b[0;34m:\u001b[0m\u001b[0;34m\u001b[0m\u001b[0;34m\u001b[0m\u001b[0m\n",
            "\u001b[0;31mFailedPreconditionError\u001b[0m: Attempting to use uninitialized value Variable_1\n\t [[{{node _retval_Variable_1_0_0}}]]"
          ]
        }
      ]
    },
    {
      "cell_type": "code",
      "metadata": {
        "id": "3anrr9zEn9F1",
        "colab_type": "code",
        "colab": {
          "base_uri": "https://localhost:8080/",
          "height": 119
        },
        "outputId": "bbf15f46-a23b-4643-8064-58a0d6be878e"
      },
      "source": [
        "init=tf.global_variables_initializer()\n",
        "sess.run(init)\n",
        "sess.run(var1)"
      ],
      "execution_count": 29,
      "outputs": [
        {
          "output_type": "execute_result",
          "data": {
            "text/plain": [
              "array([[0.2406714 , 1.8412514 , 1.0432861 , 0.90722513, 1.8739429 ],\n",
              "       [0.03844953, 0.6922989 , 0.8051653 , 1.0465827 , 0.78683853],\n",
              "       [0.8525336 , 1.0919821 , 0.2845297 , 0.7979944 , 0.31375456],\n",
              "       [1.2935259 , 1.1815655 , 1.8077891 , 1.315237  , 0.00910687],\n",
              "       [0.80933213, 1.6352382 , 0.02809834, 1.5572479 , 0.36902905]],\n",
              "      dtype=float32)"
            ]
          },
          "metadata": {
            "tags": []
          },
          "execution_count": 29
        }
      ]
    },
    {
      "cell_type": "markdown",
      "metadata": {
        "id": "c108IpHqpPwo",
        "colab_type": "text"
      },
      "source": [
        "# part-3"
      ]
    },
    {
      "cell_type": "code",
      "metadata": {
        "id": "0BCor5Twn9Jx",
        "colab_type": "code",
        "colab": {}
      },
      "source": [
        "import numpy as np\n"
      ],
      "execution_count": 30,
      "outputs": []
    },
    {
      "cell_type": "code",
      "metadata": {
        "id": "Ef9ZiPATn9oh",
        "colab_type": "code",
        "colab": {
          "base_uri": "https://localhost:8080/",
          "height": 102
        },
        "outputId": "b8a9e66a-45f9-4e12-c9b8-a83dc6aecbde"
      },
      "source": [
        "ra_a=np.random.uniform(0,100,(5,5))\n",
        "ra_a"
      ],
      "execution_count": 31,
      "outputs": [
        {
          "output_type": "execute_result",
          "data": {
            "text/plain": [
              "array([[83.39522514, 97.555066  , 91.69943892, 80.96717662,  8.39095035],\n",
              "       [85.03683142, 19.63998775, 97.51214978,  4.01845488, 60.75114535],\n",
              "       [98.85604345,  1.65047115, 83.75816555, 69.85788207, 56.36319636],\n",
              "       [43.28484199, 78.27839477, 16.12121037, 58.74920924, 55.18533268],\n",
              "       [ 6.14990383, 99.02873345,  2.29005573, 82.9576614 , 69.27526358]])"
            ]
          },
          "metadata": {
            "tags": []
          },
          "execution_count": 31
        }
      ]
    },
    {
      "cell_type": "code",
      "metadata": {
        "id": "OLXKi2O-n9sA",
        "colab_type": "code",
        "colab": {
          "base_uri": "https://localhost:8080/",
          "height": 102
        },
        "outputId": "f01e0f19-1489-422f-ecea-b496c7ccdc5b"
      },
      "source": [
        "ra_b=np.random.uniform(0,100,(5,1))\n",
        "ra_b\n"
      ],
      "execution_count": 32,
      "outputs": [
        {
          "output_type": "execute_result",
          "data": {
            "text/plain": [
              "array([[39.95827927],\n",
              "       [70.70391774],\n",
              "       [85.66338883],\n",
              "       [54.78878993],\n",
              "       [41.01945399]])"
            ]
          },
          "metadata": {
            "tags": []
          },
          "execution_count": 32
        }
      ]
    },
    {
      "cell_type": "code",
      "metadata": {
        "id": "j5HNyq7OtfO6",
        "colab_type": "code",
        "colab": {}
      },
      "source": [
        "f=ra_a + ra_b"
      ],
      "execution_count": 33,
      "outputs": []
    },
    {
      "cell_type": "code",
      "metadata": {
        "id": "0kR7eX65th-k",
        "colab_type": "code",
        "colab": {
          "base_uri": "https://localhost:8080/",
          "height": 102
        },
        "outputId": "9cdb2ae6-8762-4a6b-9eb5-9bf1156f149c"
      },
      "source": [
        "print(f)"
      ],
      "execution_count": 34,
      "outputs": [
        {
          "output_type": "stream",
          "text": [
            "[[123.35350441 137.51334527 131.65771819 120.92545589  48.34922962]\n",
            " [155.74074916  90.34390549 168.21606752  74.72237261 131.45506309]\n",
            " [184.51943228  87.31385998 169.42155438 155.5212709  142.02658519]\n",
            " [ 98.07363191 133.06718469  70.91000029 113.53799917 109.97412261]\n",
            " [ 47.16935782 140.04818745  43.30950973 123.9771154  110.29471757]]\n"
          ],
          "name": "stdout"
        }
      ]
    },
    {
      "cell_type": "code",
      "metadata": {
        "id": "AITcs1Ylrzig",
        "colab_type": "code",
        "colab": {}
      },
      "source": [
        "g=tf.placeholder(tf.float32)\n",
        "p=tf.placeholder(tf.float32)"
      ],
      "execution_count": 35,
      "outputs": []
    },
    {
      "cell_type": "code",
      "metadata": {
        "id": "yTqfNPqdrtSh",
        "colab_type": "code",
        "colab": {}
      },
      "source": [
        "add=g+p\n",
        "mul=g*p"
      ],
      "execution_count": 36,
      "outputs": []
    },
    {
      "cell_type": "code",
      "metadata": {
        "id": "hI-sFsMkrtZx",
        "colab_type": "code",
        "colab": {}
      },
      "source": [
        "with tf.Session() as sess:\n",
        "  add_result=sess.run(add,feed_dict={g:55,p:78})\n",
        "  mul_result=sess.run(mul,feed_dict={g:55,p:78})\n",
        "  add_result2=sess.run(add,feed_dict={g:ra_a,p:ra_b})\n"
      ],
      "execution_count": 37,
      "outputs": []
    },
    {
      "cell_type": "code",
      "metadata": {
        "id": "sF53bQURrtWV",
        "colab_type": "code",
        "colab": {
          "base_uri": "https://localhost:8080/",
          "height": 136
        },
        "outputId": "509f4706-b039-40c7-b2bc-e1091ed332a2"
      },
      "source": [
        "print(add_result)\n",
        "print(mul_result)\n",
        "print(add_result2)"
      ],
      "execution_count": 38,
      "outputs": [
        {
          "output_type": "stream",
          "text": [
            "133.0\n",
            "4290.0\n",
            "[[123.3535   137.51335  131.65771  120.92546   48.349228]\n",
            " [155.74075   90.3439   168.21606   74.722374 131.45506 ]\n",
            " [184.51944   87.313866 169.42155  155.52127  142.02658 ]\n",
            " [ 98.07364  133.06718   70.91     113.538    109.97412 ]\n",
            " [ 47.169357 140.04819   43.30951  123.97712  110.294716]]\n"
          ],
          "name": "stdout"
        }
      ]
    },
    {
      "cell_type": "markdown",
      "metadata": {
        "id": "mj7H0goEtu__",
        "colab_type": "text"
      },
      "source": [
        "# part-4"
      ]
    },
    {
      "cell_type": "markdown",
      "metadata": {
        "id": "vokD0x3zuP9F",
        "colab_type": "text"
      },
      "source": [
        "linear regression"
      ]
    },
    {
      "cell_type": "markdown",
      "metadata": {
        "id": "609RVKuCuysq",
        "colab_type": "text"
      },
      "source": [
        "1. np.linspace(2.0, 3.0, num=5)\n",
        "1.array([2.  , 2.25, 2.5 , 2.75, 3.  ])\n",
        "2.np.linspace(2.0, 3.0, num=5, endpoint=False)\n",
        "3. array([2. ,  2.2,  2.4,  2.6,  2.8])\n",
        "4. np.linspace(2.0, 3.0, num=5, retstep=True)\n",
        "5. (array([2.  ,  2.25,  2.5 ,  2.75,  3.  ]), 0.25)"
      ]
    },
    {
      "cell_type": "code",
      "metadata": {
        "id": "9V3zwazKtnZx",
        "colab_type": "code",
        "colab": {
          "base_uri": "https://localhost:8080/",
          "height": 51
        },
        "outputId": "64630ec9-7c2a-48dc-e6b2-7c91f74b18be"
      },
      "source": [
        "x_data=np.linspace(0,10,num=10) + np.random.uniform(-1.5,1.5,10)\n",
        "x_data"
      ],
      "execution_count": 39,
      "outputs": [
        {
          "output_type": "execute_result",
          "data": {
            "text/plain": [
              "array([-1.18910248,  0.07317653,  3.19904425,  2.50493961,  3.62320919,\n",
              "        4.83745601,  7.31002397,  7.00807563,  7.690931  ,  9.74668851])"
            ]
          },
          "metadata": {
            "tags": []
          },
          "execution_count": 39
        }
      ]
    },
    {
      "cell_type": "code",
      "metadata": {
        "id": "3Ta6dhCKtoGu",
        "colab_type": "code",
        "colab": {
          "base_uri": "https://localhost:8080/",
          "height": 51
        },
        "outputId": "211915f1-1038-4303-da1c-116fa212ed17"
      },
      "source": [
        "x_data0=np.linspace(0,10,num=10)\n",
        "x_data0"
      ],
      "execution_count": 40,
      "outputs": [
        {
          "output_type": "execute_result",
          "data": {
            "text/plain": [
              "array([ 0.        ,  1.11111111,  2.22222222,  3.33333333,  4.44444444,\n",
              "        5.55555556,  6.66666667,  7.77777778,  8.88888889, 10.        ])"
            ]
          },
          "metadata": {
            "tags": []
          },
          "execution_count": 40
        }
      ]
    },
    {
      "cell_type": "code",
      "metadata": {
        "id": "S0Vguq_dtn9A",
        "colab_type": "code",
        "colab": {
          "base_uri": "https://localhost:8080/",
          "height": 51
        },
        "outputId": "a9464fe5-6f01-4dca-bd41-fab84006dff8"
      },
      "source": [
        "y_label=np.linspace(0,10,num=10) + np.random.uniform(-1.5,1.5,10)\n",
        "y_label"
      ],
      "execution_count": 41,
      "outputs": [
        {
          "output_type": "execute_result",
          "data": {
            "text/plain": [
              "array([0.08859805, 1.47035875, 1.87614138, 4.01218113, 3.74315582,\n",
              "       6.36319408, 6.66335538, 7.69439678, 8.81368415, 9.58403573])"
            ]
          },
          "metadata": {
            "tags": []
          },
          "execution_count": 41
        }
      ]
    },
    {
      "cell_type": "code",
      "metadata": {
        "id": "vZ5gfljTvVLD",
        "colab_type": "code",
        "colab": {
          "base_uri": "https://localhost:8080/",
          "height": 51
        },
        "outputId": "9c802dd3-bbda-4d6d-adde-78b700b29873"
      },
      "source": [
        "y_label0=np.linspace(0,10,num=10)\n",
        "y_label0"
      ],
      "execution_count": 42,
      "outputs": [
        {
          "output_type": "execute_result",
          "data": {
            "text/plain": [
              "array([ 0.        ,  1.11111111,  2.22222222,  3.33333333,  4.44444444,\n",
              "        5.55555556,  6.66666667,  7.77777778,  8.88888889, 10.        ])"
            ]
          },
          "metadata": {
            "tags": []
          },
          "execution_count": 42
        }
      ]
    },
    {
      "cell_type": "markdown",
      "metadata": {
        "id": "DMszeJeGvrXl",
        "colab_type": "text"
      },
      "source": [
        "x_ data is our data and y_label is our label of that data\n",
        "\n",
        "\n",
        "\n",
        "\n",
        "\n",
        "\n"
      ]
    },
    {
      "cell_type": "code",
      "metadata": {
        "id": "FL3ly5RtvVfv",
        "colab_type": "code",
        "colab": {}
      },
      "source": [
        "import matplotlib.pyplot as plt\n"
      ],
      "execution_count": 43,
      "outputs": []
    },
    {
      "cell_type": "code",
      "metadata": {
        "id": "CNI2S9t0vVU7",
        "colab_type": "code",
        "colab": {
          "base_uri": "https://localhost:8080/",
          "height": 285
        },
        "outputId": "492b71f9-ded5-4eb9-b238-7ee4c625928d"
      },
      "source": [
        "plt.plot(x_data,y_label,'*')"
      ],
      "execution_count": 44,
      "outputs": [
        {
          "output_type": "execute_result",
          "data": {
            "text/plain": [
              "[<matplotlib.lines.Line2D at 0x7faaf2647828>]"
            ]
          },
          "metadata": {
            "tags": []
          },
          "execution_count": 44
        },
        {
          "output_type": "display_data",
          "data": {
            "image/png": "[encoded data removed]",
            "text/plain": [
              "<Figure size 432x288 with 1 Axes>"
            ]
          },
          "metadata": {
            "tags": [],
            "needs_background": "light"
          }
        }
      ]
    },
    {
      "cell_type": "code",
      "metadata": {
        "id": "Z9CFg7p_wHIj",
        "colab_type": "code",
        "colab": {
          "base_uri": "https://localhost:8080/",
          "height": 282
        },
        "outputId": "5e0e23eb-fbd6-4c49-b3a3-7ceb8e51fbf2"
      },
      "source": [
        "plt.plot(x_data0,y_label0)"
      ],
      "execution_count": 45,
      "outputs": [
        {
          "output_type": "execute_result",
          "data": {
            "text/plain": [
              "[<matplotlib.lines.Line2D at 0x7faae9c30080>]"
            ]
          },
          "metadata": {
            "tags": []
          },
          "execution_count": 45
        },
        {
          "output_type": "display_data",
          "data": {
            "image/png": "[encoded data removed]",
            "text/plain": [
              "<Figure size 432x288 with 1 Axes>"
            ]
          },
          "metadata": {
            "tags": [],
            "needs_background": "light"
          }
        }
      ]
    },
    {
      "cell_type": "markdown",
      "metadata": {
        "id": "jZgznjhYxlug",
        "colab_type": "text"
      },
      "source": [
        "thats why we add some noise in our data"
      ]
    },
    {
      "cell_type": "markdown",
      "metadata": {
        "id": "FZ7kOoKiyDlX",
        "colab_type": "text"
      },
      "source": [
        "so now we have to find weight and bias which will be used to find the best fit line"
      ]
    },
    {
      "cell_type": "markdown",
      "metadata": {
        "id": "w0MnIU51yMo-",
        "colab_type": "text"
      },
      "source": [
        "here varaible are assign with some random value"
      ]
    },
    {
      "cell_type": "code",
      "metadata": {
        "id": "bcdTKIlWvVSc",
        "colab_type": "code",
        "colab": {}
      },
      "source": [
        "weight=tf.Variable(initial_value=0.1)\n",
        "bias=tf.Variable(initial_value=0.01)"
      ],
      "execution_count": 46,
      "outputs": []
    },
    {
      "cell_type": "code",
      "metadata": {
        "id": "MkIJjBEsyx15",
        "colab_type": "code",
        "colab": {
          "base_uri": "https://localhost:8080/",
          "height": 34
        },
        "outputId": "98ef3823-5c66-4895-ee4c-4aeabf353590"
      },
      "source": [
        "numbers = [1, 2, 3]\n",
        "letters = ['a', 'b', 'c']\n",
        "zipped = zip(numbers, letters)\n",
        "zipped  # Holds an iterator object\n",
        "list(zipped)\n"
      ],
      "execution_count": 47,
      "outputs": [
        {
          "output_type": "execute_result",
          "data": {
            "text/plain": [
              "[(1, 'a'), (2, 'b'), (3, 'c')]"
            ]
          },
          "metadata": {
            "tags": []
          },
          "execution_count": 47
        }
      ]
    },
    {
      "cell_type": "markdown",
      "metadata": {
        "id": "6xHXM6FYySCe",
        "colab_type": "text"
      },
      "source": [
        "cost function"
      ]
    },
    {
      "cell_type": "code",
      "metadata": {
        "id": "BEzrH6d4vVG2",
        "colab_type": "code",
        "colab": {}
      },
      "source": [
        "error=0\n",
        "for x,y in zip(x_data,y_label):\n",
        "  y_hat=weight*x + bias\n",
        "  error=(y - y_hat)**2\n"
      ],
      "execution_count": 83,
      "outputs": []
    },
    {
      "cell_type": "code",
      "metadata": {
        "id": "9HIe-XWAtnS-",
        "colab_type": "code",
        "colab": {}
      },
      "source": [
        "optimiser=tf.train.GradientDescentOptimizer(learning_rate=0.001)"
      ],
      "execution_count": 84,
      "outputs": []
    },
    {
      "cell_type": "code",
      "metadata": {
        "id": "JlwWzw8Lzevz",
        "colab_type": "code",
        "colab": {}
      },
      "source": [
        "train=optimiser.minimize(error)"
      ],
      "execution_count": 85,
      "outputs": []
    },
    {
      "cell_type": "code",
      "metadata": {
        "id": "Am5O368Ozljj",
        "colab_type": "code",
        "colab": {}
      },
      "source": [
        "init=tf.global_variables_initializer()"
      ],
      "execution_count": 86,
      "outputs": []
    },
    {
      "cell_type": "code",
      "metadata": {
        "id": "-Dto8v9CzmA-",
        "colab_type": "code",
        "colab": {}
      },
      "source": [
        "with tf.Session() as sess:\n",
        "  sess.run(init)\n",
        "  epochs=25\n",
        "  for i in range(epochs):\n",
        "    sess.run(train)\n",
        "    final_slope,final_intercept=sess.run([weight,bias])"
      ],
      "execution_count": 87,
      "outputs": []
    },
    {
      "cell_type": "code",
      "metadata": {
        "id": "yeP9EUK_zlf8",
        "colab_type": "code",
        "colab": {
          "base_uri": "https://localhost:8080/",
          "height": 34
        },
        "outputId": "d15fe9a1-70b4-455a-e089-015959bde79c"
      },
      "source": [
        "final_slope"
      ],
      "execution_count": 88,
      "outputs": [
        {
          "output_type": "execute_result",
          "data": {
            "text/plain": [
              "0.9688647"
            ]
          },
          "metadata": {
            "tags": []
          },
          "execution_count": 88
        }
      ]
    },
    {
      "cell_type": "code",
      "metadata": {
        "id": "n1z75TCZ1F0J",
        "colab_type": "code",
        "colab": {
          "base_uri": "https://localhost:8080/",
          "height": 34
        },
        "outputId": "d2ce7033-6bb1-4506-996e-2ac5d5c64335"
      },
      "source": [
        "final_intercept"
      ],
      "execution_count": 89,
      "outputs": [
        {
          "output_type": "execute_result",
          "data": {
            "text/plain": [
              "0.09914461"
            ]
          },
          "metadata": {
            "tags": []
          },
          "execution_count": 89
        }
      ]
    },
    {
      "cell_type": "code",
      "metadata": {
        "id": "K5yk5sRO1rsg",
        "colab_type": "code",
        "colab": {
          "base_uri": "https://localhost:8080/",
          "height": 282
        },
        "outputId": "950aa8b8-6dc1-4800-88fd-0e128649f10d"
      },
      "source": [
        "x_test=np.linspace(-1,15,10) \n",
        "y_test=np.linspace(-1,14,10) + np.random.uniform(-1.5,1.5 ,10)\n",
        "y_pred_plot=final_slope*x_test + final_intercept\n",
        "plt.scatter(x_test,y_test,c='red',marker='o')\n",
        "plt.plot(x_test,y_pred_plot,'g')\n",
        "plt.plot(x_data,y_label,'*')\n"
      ],
      "execution_count": 90,
      "outputs": [
        {
          "output_type": "execute_result",
          "data": {
            "text/plain": [
              "[<matplotlib.lines.Line2D at 0x7faae8768208>]"
            ]
          },
          "metadata": {
            "tags": []
          },
          "execution_count": 90
        },
        {
          "output_type": "display_data",
          "data": {
            "image/png": "[encoded data removed]",
            "text/plain": [
              "<Figure size 432x288 with 1 Axes>"
            ]
          },
          "metadata": {
            "tags": [],
            "needs_background": "light"
          }
        }
      ]
    },
    {
      "cell_type": "code",
      "metadata": {
        "id": "_OhsElHG3Vdk",
        "colab_type": "code",
        "colab": {
          "base_uri": "https://localhost:8080/",
          "height": 51
        },
        "outputId": "ccefce19-8c90-4341-cff7-63db052e7bd4"
      },
      "source": [
        "y_test"
      ],
      "execution_count": 102,
      "outputs": [
        {
          "output_type": "execute_result",
          "data": {
            "text/plain": [
              "array([-0.60863667,  1.84751923,  3.09946846,  3.45635018,  5.92048419,\n",
              "        7.77089421,  9.49525166, 12.09030107, 12.49010611, 14.1821971 ])"
            ]
          },
          "metadata": {
            "tags": []
          },
          "execution_count": 102
        }
      ]
    },
    {
      "cell_type": "code",
      "metadata": {
        "id": "6vGgQMrl_3Z3",
        "colab_type": "code",
        "colab": {
          "base_uri": "https://localhost:8080/",
          "height": 34
        },
        "outputId": "1340747c-6f5a-45a9-d044-38ea733aeabe"
      },
      "source": [
        "training=( y - y_pred_plot)**2\n",
        "print(training.mean())"
      ],
      "execution_count": 91,
      "outputs": [
        {
          "output_type": "stream",
          "text": [
            "31.781036419986673\n"
          ],
          "name": "stdout"
        }
      ]
    },
    {
      "cell_type": "code",
      "metadata": {
        "id": "8CO4u6jGBS44",
        "colab_type": "code",
        "colab": {
          "base_uri": "https://localhost:8080/",
          "height": 51
        },
        "outputId": "c78b8dfa-6f6e-49af-fe00-593b97e6d927"
      },
      "source": [
        "(y_label - y_pred_plot)**2\n"
      ],
      "execution_count": 92,
      "outputs": [
        {
          "output_type": "execute_result",
          "data": {
            "text/plain": [
              "array([ 0.91837362,  0.38149489,  0.48858805,  0.08144008,  5.183948  ,\n",
              "        1.9022377 ,  7.8482965 , 12.20011165, 16.77725331, 25.48310227])"
            ]
          },
          "metadata": {
            "tags": []
          },
          "execution_count": 92
        }
      ]
    },
    {
      "cell_type": "code",
      "metadata": {
        "id": "_J_un2EEAX5W",
        "colab_type": "code",
        "colab": {
          "base_uri": "https://localhost:8080/",
          "height": 51
        },
        "outputId": "77f95e01-d684-4d80-e477-29e33635a3ed"
      },
      "source": [
        "y_pred_plot"
      ],
      "execution_count": 93,
      "outputs": [
        {
          "output_type": "execute_result",
          "data": {
            "text/plain": [
              "array([-0.86972007,  0.85270603,  2.57513212,  4.29755822,  6.01998431,\n",
              "        7.74241041,  9.46483651, 11.1872626 , 12.9096887 , 14.6321148 ])"
            ]
          },
          "metadata": {
            "tags": []
          },
          "execution_count": 93
        }
      ]
    },
    {
      "cell_type": "code",
      "metadata": {
        "id": "_tx_sM-ZAWJR",
        "colab_type": "code",
        "colab": {
          "base_uri": "https://localhost:8080/",
          "height": 51
        },
        "outputId": "b8eaf6e4-d38c-4c3b-a5b2-2d0a15ff5707"
      },
      "source": [
        "y_label"
      ],
      "execution_count": 94,
      "outputs": [
        {
          "output_type": "execute_result",
          "data": {
            "text/plain": [
              "array([0.08859805, 1.47035875, 1.87614138, 4.01218113, 3.74315582,\n",
              "       6.36319408, 6.66335538, 7.69439678, 8.81368415, 9.58403573])"
            ]
          },
          "metadata": {
            "tags": []
          },
          "execution_count": 94
        }
      ]
    },
    {
      "cell_type": "markdown",
      "metadata": {
        "id": "fB_Wqfqz6ODV",
        "colab_type": "text"
      },
      "source": [
        "note: we always draw plot between x_Test and y pred value because y is the value which we are finding"
      ]
    },
    {
      "cell_type": "code",
      "metadata": {
        "id": "s_s1KpT18JNe",
        "colab_type": "code",
        "colab": {
          "base_uri": "https://localhost:8080/",
          "height": 51
        },
        "outputId": "4e6af938-5d5a-4964-e035-e634aa8d2f37"
      },
      "source": [
        "x_test"
      ],
      "execution_count": 95,
      "outputs": [
        {
          "output_type": "execute_result",
          "data": {
            "text/plain": [
              "array([-1.        ,  0.77777778,  2.55555556,  4.33333333,  6.11111111,\n",
              "        7.88888889,  9.66666667, 11.44444444, 13.22222222, 15.        ])"
            ]
          },
          "metadata": {
            "tags": []
          },
          "execution_count": 95
        }
      ]
    },
    {
      "cell_type": "code",
      "metadata": {
        "id": "KKKZ6aRs8TDT",
        "colab_type": "code",
        "colab": {
          "base_uri": "https://localhost:8080/",
          "height": 51
        },
        "outputId": "cea37258-e678-42ed-e46d-c9c33cf16ec5"
      },
      "source": [
        "y_test"
      ],
      "execution_count": 96,
      "outputs": [
        {
          "output_type": "execute_result",
          "data": {
            "text/plain": [
              "array([-0.60863667,  1.84751923,  3.09946846,  3.45635018,  5.92048419,\n",
              "        7.77089421,  9.49525166, 12.09030107, 12.49010611, 14.1821971 ])"
            ]
          },
          "metadata": {
            "tags": []
          },
          "execution_count": 96
        }
      ]
    },
    {
      "cell_type": "code",
      "metadata": {
        "id": "dBHFZUDM8LcY",
        "colab_type": "code",
        "colab": {
          "base_uri": "https://localhost:8080/",
          "height": 51
        },
        "outputId": "148f806b-8adc-43d8-a941-ff7a81162684"
      },
      "source": [
        "y_pred_plot"
      ],
      "execution_count": 97,
      "outputs": [
        {
          "output_type": "execute_result",
          "data": {
            "text/plain": [
              "array([-0.86972007,  0.85270603,  2.57513212,  4.29755822,  6.01998431,\n",
              "        7.74241041,  9.46483651, 11.1872626 , 12.9096887 , 14.6321148 ])"
            ]
          },
          "metadata": {
            "tags": []
          },
          "execution_count": 97
        }
      ]
    },
    {
      "cell_type": "code",
      "metadata": {
        "id": "hMt2fNfb52PL",
        "colab_type": "code",
        "colab": {
          "base_uri": "https://localhost:8080/",
          "height": 282
        },
        "outputId": "1d8bb8f3-f02e-453f-ea02-c9501f88a187"
      },
      "source": [
        " \n",
        "plt.scatter(x_test,y_test)       "
      ],
      "execution_count": 63,
      "outputs": [
        {
          "output_type": "execute_result",
          "data": {
            "text/plain": [
              "<matplotlib.collections.PathCollection at 0x7faae99c8710>"
            ]
          },
          "metadata": {
            "tags": []
          },
          "execution_count": 63
        },
        {
          "output_type": "display_data",
          "data": {
            "image/png": "[encoded data removed]",
            "text/plain": [
              "<Figure size 432x288 with 1 Axes>"
            ]
          },
          "metadata": {
            "tags": [],
            "needs_background": "light"
          }
        }
      ]
    },
    {
      "cell_type": "code",
      "metadata": {
        "id": "B6BZQlnFCJr_",
        "colab_type": "code",
        "colab": {
          "base_uri": "https://localhost:8080/",
          "height": 34
        },
        "outputId": "abdf6ffd-f713-409e-f170-a76140104fde"
      },
      "source": [
        "testing=(y_test-y_pred_plot)**2\n",
        "testing.mean()"
      ],
      "execution_count": 108,
      "outputs": [
        {
          "output_type": "execute_result",
          "data": {
            "text/plain": [
              "0.3245968042217321"
            ]
          },
          "metadata": {
            "tags": []
          },
          "execution_count": 108
        }
      ]
    },
    {
      "cell_type": "markdown",
      "metadata": {
        "id": "gmwfXQxl3Dp-",
        "colab_type": "text"
      },
      "source": [
        "# part-4"
      ]
    },
    {
      "cell_type": "code",
      "metadata": {
        "id": "OMzbeud73M8O",
        "colab_type": "code",
        "colab": {}
      },
      "source": [
        ""
      ],
      "execution_count": null,
      "outputs": []
    }
  ]
}