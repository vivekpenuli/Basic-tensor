{
  "nbformat": 4,
  "nbformat_minor": 0,
  "metadata": {
    "colab": {
      "name": " Basic tensor operation",
      "provenance": [],
      "collapsed_sections": [],
      "authorship_tag": "ABX9TyMDnrzNl/aTLa3pdpJtEvwT",
      "include_colab_link": true
    },
    "kernelspec": {
      "name": "python3",
      "display_name": "Python 3"
    }
  },
  "cells": [
    {
      "cell_type": "markdown",
      "metadata": {
        "id": "view-in-github",
        "colab_type": "text"
      },
      "source": [
        "<a href=\"https://colab.research.google.com/github/vivekpenuli/Basic-tensor/blob/master/Basic_tensor_operation1.ipynb\" target=\"_parent\"><img src=\"https://colab.research.google.com/assets/colab-badge.svg\" alt=\"Open In Colab\"/></a>"
      ]
    },
    {
      "cell_type": "code",
      "metadata": {
        "id": "cseJbiKcknRc",
        "colab_type": "code",
        "colab": {
          "base_uri": "https://localhost:8080/",
          "height": 34
        },
        "outputId": "5c52afc0-0acc-4bfd-b077-0421366e1636"
      },
      "source": [
        "%tensorflow_version 1.x"
      ],
      "execution_count": 1,
      "outputs": [
        {
          "output_type": "stream",
          "text": [
            "TensorFlow 1.x selected.\n"
          ],
          "name": "stdout"
        }
      ]
    },
    {
      "cell_type": "code",
      "metadata": {
        "id": "YEv6IjfYkw2O",
        "colab_type": "code",
        "colab": {
          "base_uri": "https://localhost:8080/",
          "height": 34
        },
        "outputId": "0c2439a7-b788-4ca1-be46-7165fa9110ca"
      },
      "source": [
        "import tensorflow as tf\n",
        "print(tf.__version__)"
      ],
      "execution_count": 14,
      "outputs": [
        {
          "output_type": "stream",
          "text": [
            "1.15.2\n"
          ],
          "name": "stdout"
        }
      ]
    },
    {
      "cell_type": "code",
      "metadata": {
        "id": "ay-kBAJ-kw6L",
        "colab_type": "code",
        "colab": {}
      },
      "source": [
        "a=tf.constant('hello')"
      ],
      "execution_count": 15,
      "outputs": []
    },
    {
      "cell_type": "code",
      "metadata": {
        "id": "kzmOwXjtkw9o",
        "colab_type": "code",
        "colab": {
          "base_uri": "https://localhost:8080/",
          "height": 34
        },
        "outputId": "b738039e-1de1-432a-cb98-1233a6519e54"
      },
      "source": [
        "a"
      ],
      "execution_count": 16,
      "outputs": [
        {
          "output_type": "execute_result",
          "data": {
            "text/plain": [
              "<tf.Tensor 'Const_4:0' shape=() dtype=string>"
            ]
          },
          "metadata": {
            "tags": []
          },
          "execution_count": 16
        }
      ]
    },
    {
      "cell_type": "code",
      "metadata": {
        "id": "1aeLkhbZkxA6",
        "colab_type": "code",
        "colab": {}
      },
      "source": [
        "b=tf.constant(\"world\")"
      ],
      "execution_count": 17,
      "outputs": []
    },
    {
      "cell_type": "code",
      "metadata": {
        "id": "msnuYi_kkxEt",
        "colab_type": "code",
        "colab": {
          "base_uri": "https://localhost:8080/",
          "height": 51
        },
        "outputId": "41dd387c-9b48-46c5-ae73-3a8008bf1df0"
      },
      "source": [
        "with tf.Session() as sess:\n",
        "  result=sess.run(a+b)\n",
        "  apple=sess.run(a)\n",
        "\n",
        "print(result)\n",
        "print(\" \",apple)"
      ],
      "execution_count": 18,
      "outputs": [
        {
          "output_type": "stream",
          "text": [
            "b'helloworld'\n",
            "  b'hello'\n"
          ],
          "name": "stdout"
        }
      ]
    },
    {
      "cell_type": "code",
      "metadata": {
        "id": "gD0AKGSLkxH7",
        "colab_type": "code",
        "colab": {}
      },
      "source": [
        "c=tf.constant(22)\n",
        "d=tf.constant(56)\n",
        "e=c+d"
      ],
      "execution_count": 19,
      "outputs": []
    },
    {
      "cell_type": "code",
      "metadata": {
        "id": "gL1KdxLPm4RL",
        "colab_type": "code",
        "colab": {
          "base_uri": "https://localhost:8080/",
          "height": 34
        },
        "outputId": "9dec8786-f2fe-475b-8076-b1df44ea5420"
      },
      "source": [
        "with tf.Session() as sess:\n",
        "  result2=sess.run(c+d)\n",
        "print(result2)"
      ],
      "execution_count": 20,
      "outputs": [
        {
          "output_type": "stream",
          "text": [
            "78\n"
          ],
          "name": "stdout"
        }
      ]
    },
    {
      "cell_type": "markdown",
      "metadata": {
        "id": "dj68Il8NnpZq",
        "colab_type": "text"
      },
      "source": [
        "#  part -2"
      ]
    },
    {
      "cell_type": "code",
      "metadata": {
        "id": "GFzDNQ4Nm4WF",
        "colab_type": "code",
        "colab": {
          "base_uri": "https://localhost:8080/",
          "height": 88
        },
        "outputId": "af32703b-03d0-4306-dd9c-a582cb3c0d92"
      },
      "source": [
        "sess=tf.InteractiveSession()\n",
        "\n",
        "my_tensor=tf.random_uniform((5,5),0,2)\n",
        "my_tensor"
      ],
      "execution_count": 21,
      "outputs": [
        {
          "output_type": "stream",
          "text": [
            "/tensorflow-1.15.2/python3.6/tensorflow_core/python/client/session.py:1750: UserWarning: An interactive session is already active. This can cause out-of-memory errors in some cases. You must explicitly call `InteractiveSession.close()` to release resources held by the other session(s).\n",
            "  warnings.warn('An interactive session is already active. This can '\n"
          ],
          "name": "stderr"
        },
        {
          "output_type": "execute_result",
          "data": {
            "text/plain": [
              "<tf.Tensor 'random_uniform_1:0' shape=(5, 5) dtype=float32>"
            ]
          },
          "metadata": {
            "tags": []
          },
          "execution_count": 21
        }
      ]
    },
    {
      "cell_type": "code",
      "metadata": {
        "id": "ftzMD_pCm4Z7",
        "colab_type": "code",
        "colab": {
          "base_uri": "https://localhost:8080/",
          "height": 119
        },
        "outputId": "df5c36ab-e198-45a5-97f6-f29cee4b9ea9"
      },
      "source": [
        "sess.run(my_tensor)"
      ],
      "execution_count": 22,
      "outputs": [
        {
          "output_type": "execute_result",
          "data": {
            "text/plain": [
              "array([[0.8075657 , 0.3611548 , 1.4610722 , 0.80582905, 0.07541108],\n",
              "       [0.8599746 , 1.111521  , 1.356549  , 1.4720676 , 0.5471988 ],\n",
              "       [1.9157772 , 0.84473324, 0.7498081 , 0.85598445, 0.32149243],\n",
              "       [0.08728743, 1.0634155 , 0.83256006, 0.02494049, 0.61932635],\n",
              "       [1.7526038 , 0.9514084 , 0.12293077, 1.141582  , 1.6528723 ]],\n",
              "      dtype=float32)"
            ]
          },
          "metadata": {
            "tags": []
          },
          "execution_count": 22
        }
      ]
    },
    {
      "cell_type": "code",
      "metadata": {
        "id": "wb8f9w4hn9B3",
        "colab_type": "code",
        "colab": {}
      },
      "source": [
        "var1=tf.Variable(initial_value=my_tensor)"
      ],
      "execution_count": 23,
      "outputs": []
    },
    {
      "cell_type": "code",
      "metadata": {
        "id": "L_Pmfu0uo5ZC",
        "colab_type": "code",
        "colab": {
          "base_uri": "https://localhost:8080/",
          "height": 34
        },
        "outputId": "4265e81f-de13-4c85-f40a-e37a561212f1"
      },
      "source": [
        "print(var1)"
      ],
      "execution_count": 24,
      "outputs": [
        {
          "output_type": "stream",
          "text": [
            "<tf.Variable 'Variable_1:0' shape=(5, 5) dtype=float32_ref>\n"
          ],
          "name": "stdout"
        }
      ]
    },
    {
      "cell_type": "code",
      "metadata": {
        "id": "FjC5U5VKo7Fs",
        "colab_type": "code",
        "colab": {
          "base_uri": "https://localhost:8080/",
          "height": 459
        },
        "outputId": "afb260c2-3b3f-4e5f-ff7e-a57f66cb934e"
      },
      "source": [
        "sess.run(var1)"
      ],
      "execution_count": 25,
      "outputs": [
        {
          "output_type": "error",
          "ename": "FailedPreconditionError",
          "evalue": "ignored",
          "traceback": [
            "\u001b[0;31m---------------------------------------------------------------------------\u001b[0m",
            "\u001b[0;31mFailedPreconditionError\u001b[0m                   Traceback (most recent call last)",
            "\u001b[0;32m/tensorflow-1.15.2/python3.6/tensorflow_core/python/client/session.py\u001b[0m in \u001b[0;36m_do_call\u001b[0;34m(self, fn, *args)\u001b[0m\n\u001b[1;32m   1364\u001b[0m     \u001b[0;32mtry\u001b[0m\u001b[0;34m:\u001b[0m\u001b[0;34m\u001b[0m\u001b[0;34m\u001b[0m\u001b[0m\n\u001b[0;32m-> 1365\u001b[0;31m       \u001b[0;32mreturn\u001b[0m \u001b[0mfn\u001b[0m\u001b[0;34m(\u001b[0m\u001b[0;34m*\u001b[0m\u001b[0margs\u001b[0m\u001b[0;34m)\u001b[0m\u001b[0;34m\u001b[0m\u001b[0;34m\u001b[0m\u001b[0m\n\u001b[0m\u001b[1;32m   1366\u001b[0m     \u001b[0;32mexcept\u001b[0m \u001b[0merrors\u001b[0m\u001b[0;34m.\u001b[0m\u001b[0mOpError\u001b[0m \u001b[0;32mas\u001b[0m \u001b[0me\u001b[0m\u001b[0;34m:\u001b[0m\u001b[0;34m\u001b[0m\u001b[0;34m\u001b[0m\u001b[0m\n",
            "\u001b[0;32m/tensorflow-1.15.2/python3.6/tensorflow_core/python/client/session.py\u001b[0m in \u001b[0;36m_run_fn\u001b[0;34m(feed_dict, fetch_list, target_list, options, run_metadata)\u001b[0m\n\u001b[1;32m   1349\u001b[0m       return self._call_tf_sessionrun(options, feed_dict, fetch_list,\n\u001b[0;32m-> 1350\u001b[0;31m                                       target_list, run_metadata)\n\u001b[0m\u001b[1;32m   1351\u001b[0m \u001b[0;34m\u001b[0m\u001b[0m\n",
            "\u001b[0;32m/tensorflow-1.15.2/python3.6/tensorflow_core/python/client/session.py\u001b[0m in \u001b[0;36m_call_tf_sessionrun\u001b[0;34m(self, options, feed_dict, fetch_list, target_list, run_metadata)\u001b[0m\n\u001b[1;32m   1442\u001b[0m                                             \u001b[0mfetch_list\u001b[0m\u001b[0;34m,\u001b[0m \u001b[0mtarget_list\u001b[0m\u001b[0;34m,\u001b[0m\u001b[0;34m\u001b[0m\u001b[0;34m\u001b[0m\u001b[0m\n\u001b[0;32m-> 1443\u001b[0;31m                                             run_metadata)\n\u001b[0m\u001b[1;32m   1444\u001b[0m \u001b[0;34m\u001b[0m\u001b[0m\n",
            "\u001b[0;31mFailedPreconditionError\u001b[0m: Attempting to use uninitialized value Variable_1\n\t [[{{node _retval_Variable_1_0_0}}]]",
            "\nDuring handling of the above exception, another exception occurred:\n",
            "\u001b[0;31mFailedPreconditionError\u001b[0m                   Traceback (most recent call last)",
            "\u001b[0;32m<ipython-input-25-0b167dcedc00>\u001b[0m in \u001b[0;36m<module>\u001b[0;34m()\u001b[0m\n\u001b[0;32m----> 1\u001b[0;31m \u001b[0msess\u001b[0m\u001b[0;34m.\u001b[0m\u001b[0mrun\u001b[0m\u001b[0;34m(\u001b[0m\u001b[0mvar1\u001b[0m\u001b[0;34m)\u001b[0m\u001b[0;34m\u001b[0m\u001b[0;34m\u001b[0m\u001b[0m\n\u001b[0m",
            "\u001b[0;32m/tensorflow-1.15.2/python3.6/tensorflow_core/python/client/session.py\u001b[0m in \u001b[0;36mrun\u001b[0;34m(self, fetches, feed_dict, options, run_metadata)\u001b[0m\n\u001b[1;32m    954\u001b[0m     \u001b[0;32mtry\u001b[0m\u001b[0;34m:\u001b[0m\u001b[0;34m\u001b[0m\u001b[0;34m\u001b[0m\u001b[0m\n\u001b[1;32m    955\u001b[0m       result = self._run(None, fetches, feed_dict, options_ptr,\n\u001b[0;32m--> 956\u001b[0;31m                          run_metadata_ptr)\n\u001b[0m\u001b[1;32m    957\u001b[0m       \u001b[0;32mif\u001b[0m \u001b[0mrun_metadata\u001b[0m\u001b[0;34m:\u001b[0m\u001b[0;34m\u001b[0m\u001b[0;34m\u001b[0m\u001b[0m\n\u001b[1;32m    958\u001b[0m         \u001b[0mproto_data\u001b[0m \u001b[0;34m=\u001b[0m \u001b[0mtf_session\u001b[0m\u001b[0;34m.\u001b[0m\u001b[0mTF_GetBuffer\u001b[0m\u001b[0;34m(\u001b[0m\u001b[0mrun_metadata_ptr\u001b[0m\u001b[0;34m)\u001b[0m\u001b[0;34m\u001b[0m\u001b[0;34m\u001b[0m\u001b[0m\n",
            "\u001b[0;32m/tensorflow-1.15.2/python3.6/tensorflow_core/python/client/session.py\u001b[0m in \u001b[0;36m_run\u001b[0;34m(self, handle, fetches, feed_dict, options, run_metadata)\u001b[0m\n\u001b[1;32m   1178\u001b[0m     \u001b[0;32mif\u001b[0m \u001b[0mfinal_fetches\u001b[0m \u001b[0;32mor\u001b[0m \u001b[0mfinal_targets\u001b[0m \u001b[0;32mor\u001b[0m \u001b[0;34m(\u001b[0m\u001b[0mhandle\u001b[0m \u001b[0;32mand\u001b[0m \u001b[0mfeed_dict_tensor\u001b[0m\u001b[0;34m)\u001b[0m\u001b[0;34m:\u001b[0m\u001b[0;34m\u001b[0m\u001b[0;34m\u001b[0m\u001b[0m\n\u001b[1;32m   1179\u001b[0m       results = self._do_run(handle, final_targets, final_fetches,\n\u001b[0;32m-> 1180\u001b[0;31m                              feed_dict_tensor, options, run_metadata)\n\u001b[0m\u001b[1;32m   1181\u001b[0m     \u001b[0;32melse\u001b[0m\u001b[0;34m:\u001b[0m\u001b[0;34m\u001b[0m\u001b[0;34m\u001b[0m\u001b[0m\n\u001b[1;32m   1182\u001b[0m       \u001b[0mresults\u001b[0m \u001b[0;34m=\u001b[0m \u001b[0;34m[\u001b[0m\u001b[0;34m]\u001b[0m\u001b[0;34m\u001b[0m\u001b[0;34m\u001b[0m\u001b[0m\n",
            "\u001b[0;32m/tensorflow-1.15.2/python3.6/tensorflow_core/python/client/session.py\u001b[0m in \u001b[0;36m_do_run\u001b[0;34m(self, handle, target_list, fetch_list, feed_dict, options, run_metadata)\u001b[0m\n\u001b[1;32m   1357\u001b[0m     \u001b[0;32mif\u001b[0m \u001b[0mhandle\u001b[0m \u001b[0;32mis\u001b[0m \u001b[0;32mNone\u001b[0m\u001b[0;34m:\u001b[0m\u001b[0;34m\u001b[0m\u001b[0;34m\u001b[0m\u001b[0m\n\u001b[1;32m   1358\u001b[0m       return self._do_call(_run_fn, feeds, fetches, targets, options,\n\u001b[0;32m-> 1359\u001b[0;31m                            run_metadata)\n\u001b[0m\u001b[1;32m   1360\u001b[0m     \u001b[0;32melse\u001b[0m\u001b[0;34m:\u001b[0m\u001b[0;34m\u001b[0m\u001b[0;34m\u001b[0m\u001b[0m\n\u001b[1;32m   1361\u001b[0m       \u001b[0;32mreturn\u001b[0m \u001b[0mself\u001b[0m\u001b[0;34m.\u001b[0m\u001b[0m_do_call\u001b[0m\u001b[0;34m(\u001b[0m\u001b[0m_prun_fn\u001b[0m\u001b[0;34m,\u001b[0m \u001b[0mhandle\u001b[0m\u001b[0;34m,\u001b[0m \u001b[0mfeeds\u001b[0m\u001b[0;34m,\u001b[0m \u001b[0mfetches\u001b[0m\u001b[0;34m)\u001b[0m\u001b[0;34m\u001b[0m\u001b[0;34m\u001b[0m\u001b[0m\n",
            "\u001b[0;32m/tensorflow-1.15.2/python3.6/tensorflow_core/python/client/session.py\u001b[0m in \u001b[0;36m_do_call\u001b[0;34m(self, fn, *args)\u001b[0m\n\u001b[1;32m   1382\u001b[0m                     \u001b[0;34m'\\nsession_config.graph_options.rewrite_options.'\u001b[0m\u001b[0;34m\u001b[0m\u001b[0;34m\u001b[0m\u001b[0m\n\u001b[1;32m   1383\u001b[0m                     'disable_meta_optimizer = True')\n\u001b[0;32m-> 1384\u001b[0;31m       \u001b[0;32mraise\u001b[0m \u001b[0mtype\u001b[0m\u001b[0;34m(\u001b[0m\u001b[0me\u001b[0m\u001b[0;34m)\u001b[0m\u001b[0;34m(\u001b[0m\u001b[0mnode_def\u001b[0m\u001b[0;34m,\u001b[0m \u001b[0mop\u001b[0m\u001b[0;34m,\u001b[0m \u001b[0mmessage\u001b[0m\u001b[0;34m)\u001b[0m\u001b[0;34m\u001b[0m\u001b[0;34m\u001b[0m\u001b[0m\n\u001b[0m\u001b[1;32m   1385\u001b[0m \u001b[0;34m\u001b[0m\u001b[0m\n\u001b[1;32m   1386\u001b[0m   \u001b[0;32mdef\u001b[0m \u001b[0m_extend_graph\u001b[0m\u001b[0;34m(\u001b[0m\u001b[0mself\u001b[0m\u001b[0;34m)\u001b[0m\u001b[0;34m:\u001b[0m\u001b[0;34m\u001b[0m\u001b[0;34m\u001b[0m\u001b[0m\n",
            "\u001b[0;31mFailedPreconditionError\u001b[0m: Attempting to use uninitialized value Variable_1\n\t [[{{node _retval_Variable_1_0_0}}]]"
          ]
        }
      ]
    },
    {
      "cell_type": "code",
      "metadata": {
        "id": "3anrr9zEn9F1",
        "colab_type": "code",
        "colab": {
          "base_uri": "https://localhost:8080/",
          "height": 119
        },
        "outputId": "dc698f8c-12de-4d94-bfed-0d095af52426"
      },
      "source": [
        "init=tf.global_variables_initializer()\n",
        "sess.run(init)\n",
        "sess.run(var1)"
      ],
      "execution_count": 26,
      "outputs": [
        {
          "output_type": "execute_result",
          "data": {
            "text/plain": [
              "array([[1.821553  , 1.1621189 , 0.95340157, 1.165535  , 0.36010766],\n",
              "       [1.3789327 , 0.9203701 , 0.36834812, 1.184716  , 1.6702039 ],\n",
              "       [0.11566091, 0.15349603, 1.5706284 , 1.8327432 , 1.5572019 ],\n",
              "       [0.2443335 , 1.0172007 , 1.6087162 , 0.17349648, 0.02296519],\n",
              "       [0.27077365, 0.18974781, 1.9702363 , 0.77516294, 1.273406  ]],\n",
              "      dtype=float32)"
            ]
          },
          "metadata": {
            "tags": []
          },
          "execution_count": 26
        }
      ]
    },
    {
      "cell_type": "markdown",
      "metadata": {
        "id": "c108IpHqpPwo",
        "colab_type": "text"
      },
      "source": [
        "# part-3"
      ]
    },
    {
      "cell_type": "code",
      "metadata": {
        "id": "0BCor5Twn9Jx",
        "colab_type": "code",
        "colab": {}
      },
      "source": [
        "import numpy as np\n"
      ],
      "execution_count": 27,
      "outputs": []
    },
    {
      "cell_type": "code",
      "metadata": {
        "id": "Ef9ZiPATn9oh",
        "colab_type": "code",
        "colab": {
          "base_uri": "https://localhost:8080/",
          "height": 102
        },
        "outputId": "35c2cf9a-1324-48b0-ae6d-82ff7cfce717"
      },
      "source": [
        "ra_a=np.random.uniform(0,100,(5,5))\n",
        "ra_a"
      ],
      "execution_count": 28,
      "outputs": [
        {
          "output_type": "execute_result",
          "data": {
            "text/plain": [
              "array([[83.72880792, 29.55666651, 56.83921685, 80.03961622, 52.27402394],\n",
              "       [83.4251251 , 30.85908673, 11.40045771, 88.16417242, 46.0535143 ],\n",
              "       [51.8082713 , 76.42179641, 63.47727748, 99.19476528, 66.32529389],\n",
              "       [31.45917915, 49.93321238, 20.52696621, 58.38045788, 66.9492793 ],\n",
              "       [76.89482972, 35.49273179, 24.56073838, 19.61001687, 63.15824707]])"
            ]
          },
          "metadata": {
            "tags": []
          },
          "execution_count": 28
        }
      ]
    },
    {
      "cell_type": "code",
      "metadata": {
        "id": "OLXKi2O-n9sA",
        "colab_type": "code",
        "colab": {
          "base_uri": "https://localhost:8080/",
          "height": 102
        },
        "outputId": "567a81a9-13b7-4d27-ee68-392b2841694c"
      },
      "source": [
        "ra_b=np.random.uniform(0,100,(5,1))\n",
        "ra_b\n"
      ],
      "execution_count": 29,
      "outputs": [
        {
          "output_type": "execute_result",
          "data": {
            "text/plain": [
              "array([[ 7.22781802],\n",
              "       [38.6722825 ],\n",
              "       [72.27494391],\n",
              "       [64.68896595],\n",
              "       [ 3.90790642]])"
            ]
          },
          "metadata": {
            "tags": []
          },
          "execution_count": 29
        }
      ]
    },
    {
      "cell_type": "code",
      "metadata": {
        "id": "j5HNyq7OtfO6",
        "colab_type": "code",
        "colab": {}
      },
      "source": [
        "f=ra_a + ra_b"
      ],
      "execution_count": 30,
      "outputs": []
    },
    {
      "cell_type": "code",
      "metadata": {
        "id": "0kR7eX65th-k",
        "colab_type": "code",
        "colab": {
          "base_uri": "https://localhost:8080/",
          "height": 102
        },
        "outputId": "d9d004b4-de4b-42d2-c778-3c553090fd5f"
      },
      "source": [
        "print(f)"
      ],
      "execution_count": 31,
      "outputs": [
        {
          "output_type": "stream",
          "text": [
            "[[ 90.95662594  36.78448453  64.06703487  87.26743425  59.50184196]\n",
            " [122.0974076   69.53136923  50.0727402  126.83645492  84.7257968 ]\n",
            " [124.0832152  148.69674032 135.75222139 171.46970919 138.6002378 ]\n",
            " [ 96.1481451  114.62217833  85.21593216 123.06942382 131.63824525]\n",
            " [ 80.80273614  39.4006382   28.4686448   23.51792329  67.06615349]]\n"
          ],
          "name": "stdout"
        }
      ]
    },
    {
      "cell_type": "code",
      "metadata": {
        "id": "AITcs1Ylrzig",
        "colab_type": "code",
        "colab": {}
      },
      "source": [
        "g=tf.placeholder(tf.float32)\n",
        "p=tf.placeholder(tf.float32)"
      ],
      "execution_count": 32,
      "outputs": []
    },
    {
      "cell_type": "code",
      "metadata": {
        "id": "yTqfNPqdrtSh",
        "colab_type": "code",
        "colab": {}
      },
      "source": [
        "add=g+p\n",
        "mul=g*p"
      ],
      "execution_count": 33,
      "outputs": []
    },
    {
      "cell_type": "code",
      "metadata": {
        "id": "hI-sFsMkrtZx",
        "colab_type": "code",
        "colab": {}
      },
      "source": [
        "with tf.Session() as sess:\n",
        "  add_result=sess.run(add,feed_dict={g:55,p:78})\n",
        "  mul_result=sess.run(mul,feed_dict={g:55,p:78})\n",
        "  add_result2=sess.run(add,feed_dict={g:ra_a,p:ra_b})\n"
      ],
      "execution_count": 34,
      "outputs": []
    },
    {
      "cell_type": "code",
      "metadata": {
        "id": "sF53bQURrtWV",
        "colab_type": "code",
        "colab": {
          "base_uri": "https://localhost:8080/",
          "height": 136
        },
        "outputId": "c5069e17-ecfc-44dd-819a-a71502b408c9"
      },
      "source": [
        "print(add_result)\n",
        "print(mul_result)\n",
        "print(add_result2)"
      ],
      "execution_count": 35,
      "outputs": [
        {
          "output_type": "stream",
          "text": [
            "133.0\n",
            "4290.0\n",
            "[[ 90.95663   36.784485  64.06704   87.26744   59.501842]\n",
            " [122.09741   69.53137   50.07274  126.83646   84.7258  ]\n",
            " [124.083206 148.69675  135.75221  171.4697   138.60023 ]\n",
            " [ 96.14815  114.62218   85.21593  123.06943  131.63824 ]\n",
            " [ 80.802734  39.40064   28.468643  23.517925  67.066154]]\n"
          ],
          "name": "stdout"
        }
      ]
    },
    {
      "cell_type": "markdown",
      "metadata": {
        "id": "mj7H0goEtu__",
        "colab_type": "text"
      },
      "source": [
        "# part-4"
      ]
    },
    {
      "cell_type": "markdown",
      "metadata": {
        "id": "vokD0x3zuP9F",
        "colab_type": "text"
      },
      "source": [
        "linear regression"
      ]
    },
    {
      "cell_type": "markdown",
      "metadata": {
        "id": "609RVKuCuysq",
        "colab_type": "text"
      },
      "source": [
        "1. np.linspace(2.0, 3.0, num=5)\n",
        "1.array([2.  , 2.25, 2.5 , 2.75, 3.  ])\n",
        "2.np.linspace(2.0, 3.0, num=5, endpoint=False)\n",
        "3. array([2. ,  2.2,  2.4,  2.6,  2.8])\n",
        "4. np.linspace(2.0, 3.0, num=5, retstep=True)\n",
        "5. (array([2.  ,  2.25,  2.5 ,  2.75,  3.  ]), 0.25)"
      ]
    },
    {
      "cell_type": "code",
      "metadata": {
        "id": "9V3zwazKtnZx",
        "colab_type": "code",
        "colab": {
          "base_uri": "https://localhost:8080/",
          "height": 51
        },
        "outputId": "8f15c576-2b7f-4e8a-fc9f-5b09eb76adde"
      },
      "source": [
        "x_data=np.linspace(0,10,num=10) + np.random.uniform(-1.5,1.5,10)\n",
        "x_data"
      ],
      "execution_count": 36,
      "outputs": [
        {
          "output_type": "execute_result",
          "data": {
            "text/plain": [
              "array([ 0.30758079,  1.68598446,  1.5109769 ,  4.4647076 ,  3.78892419,\n",
              "        4.84583029,  5.33609947,  8.73930909,  7.50151873, 11.19491965])"
            ]
          },
          "metadata": {
            "tags": []
          },
          "execution_count": 36
        }
      ]
    },
    {
      "cell_type": "code",
      "metadata": {
        "id": "3Ta6dhCKtoGu",
        "colab_type": "code",
        "colab": {
          "base_uri": "https://localhost:8080/",
          "height": 51
        },
        "outputId": "fedc00fa-8814-4c21-e9a3-ed98960135e9"
      },
      "source": [
        "x_data0=np.linspace(0,10,num=10)\n",
        "x_data0"
      ],
      "execution_count": 37,
      "outputs": [
        {
          "output_type": "execute_result",
          "data": {
            "text/plain": [
              "array([ 0.        ,  1.11111111,  2.22222222,  3.33333333,  4.44444444,\n",
              "        5.55555556,  6.66666667,  7.77777778,  8.88888889, 10.        ])"
            ]
          },
          "metadata": {
            "tags": []
          },
          "execution_count": 37
        }
      ]
    },
    {
      "cell_type": "code",
      "metadata": {
        "id": "S0Vguq_dtn9A",
        "colab_type": "code",
        "colab": {
          "base_uri": "https://localhost:8080/",
          "height": 51
        },
        "outputId": "6da6bac4-3278-46d0-bdbf-d3b9d202eaa4"
      },
      "source": [
        "y_label=np.linspace(0,10,num=10) + np.random.uniform(-1.5,1.5,10)\n",
        "y_label"
      ],
      "execution_count": 38,
      "outputs": [
        {
          "output_type": "execute_result",
          "data": {
            "text/plain": [
              "array([ 0.34322534,  1.07498753,  3.28950933,  4.0765539 ,  3.66092775,\n",
              "        5.60066788,  7.37904232,  8.42092617,  7.70817919, 11.12558212])"
            ]
          },
          "metadata": {
            "tags": []
          },
          "execution_count": 38
        }
      ]
    },
    {
      "cell_type": "code",
      "metadata": {
        "id": "vZ5gfljTvVLD",
        "colab_type": "code",
        "colab": {
          "base_uri": "https://localhost:8080/",
          "height": 51
        },
        "outputId": "6fc2c376-3052-490c-9ec2-4554eee50703"
      },
      "source": [
        "y_label0=np.linspace(0,10,num=10)\n",
        "y_label0"
      ],
      "execution_count": 39,
      "outputs": [
        {
          "output_type": "execute_result",
          "data": {
            "text/plain": [
              "array([ 0.        ,  1.11111111,  2.22222222,  3.33333333,  4.44444444,\n",
              "        5.55555556,  6.66666667,  7.77777778,  8.88888889, 10.        ])"
            ]
          },
          "metadata": {
            "tags": []
          },
          "execution_count": 39
        }
      ]
    },
    {
      "cell_type": "markdown",
      "metadata": {
        "id": "DMszeJeGvrXl",
        "colab_type": "text"
      },
      "source": [
        "x_ data is our data and y_label is our label of that data\n",
        "\n",
        "\n",
        "\n",
        "\n",
        "\n",
        "\n"
      ]
    },
    {
      "cell_type": "code",
      "metadata": {
        "id": "FL3ly5RtvVfv",
        "colab_type": "code",
        "colab": {}
      },
      "source": [
        "import matplotlib.pyplot as plt\n"
      ],
      "execution_count": 40,
      "outputs": []
    },
    {
      "cell_type": "code",
      "metadata": {
        "id": "CNI2S9t0vVU7",
        "colab_type": "code",
        "colab": {
          "base_uri": "https://localhost:8080/",
          "height": 282
        },
        "outputId": "d0539c45-b1f5-4360-fe46-897b21f61f51"
      },
      "source": [
        "plt.plot(x_data,y_label,'*')"
      ],
      "execution_count": 41,
      "outputs": [
        {
          "output_type": "execute_result",
          "data": {
            "text/plain": [
              "[<matplotlib.lines.Line2D at 0x7f4a8ba57390>]"
            ]
          },
          "metadata": {
            "tags": []
          },
          "execution_count": 41
        },
        {
          "output_type": "display_data",
          "data": {
            "image/png": "[encoded data removed]",
            "text/plain": [
              "<Figure size 432x288 with 1 Axes>"
            ]
          },
          "metadata": {
            "tags": [],
            "needs_background": "light"
          }
        }
      ]
    },
    {
      "cell_type": "code",
      "metadata": {
        "id": "Z9CFg7p_wHIj",
        "colab_type": "code",
        "colab": {
          "base_uri": "https://localhost:8080/",
          "height": 282
        },
        "outputId": "be0d6153-0ee4-4bb3-b3d7-6bf416e8250a"
      },
      "source": [
        "plt.plot(x_data0,y_label0)"
      ],
      "execution_count": 42,
      "outputs": [
        {
          "output_type": "execute_result",
          "data": {
            "text/plain": [
              "[<matplotlib.lines.Line2D at 0x7f4a8b9e6940>]"
            ]
          },
          "metadata": {
            "tags": []
          },
          "execution_count": 42
        },
        {
          "output_type": "display_data",
          "data": {
            "image/png": "[encoded data removed]",
            "text/plain": [
              "<Figure size 432x288 with 1 Axes>"
            ]
          },
          "metadata": {
            "tags": [],
            "needs_background": "light"
          }
        }
      ]
    },
    {
      "cell_type": "markdown",
      "metadata": {
        "id": "jZgznjhYxlug",
        "colab_type": "text"
      },
      "source": [
        "thats why we add some noise in our data"
      ]
    },
    {
      "cell_type": "markdown",
      "metadata": {
        "id": "FZ7kOoKiyDlX",
        "colab_type": "text"
      },
      "source": [
        "so now we have to find weight and bias which will be used to find the best fit line"
      ]
    },
    {
      "cell_type": "markdown",
      "metadata": {
        "id": "w0MnIU51yMo-",
        "colab_type": "text"
      },
      "source": [
        "here varaible are assign with some random value"
      ]
    },
    {
      "cell_type": "code",
      "metadata": {
        "id": "bcdTKIlWvVSc",
        "colab_type": "code",
        "colab": {}
      },
      "source": [
        "weight=tf.Variable(initial_value=0.1)\n",
        "bias=tf.Variable(initial_value=0.01)"
      ],
      "execution_count": 43,
      "outputs": []
    },
    {
      "cell_type": "code",
      "metadata": {
        "id": "MkIJjBEsyx15",
        "colab_type": "code",
        "colab": {
          "base_uri": "https://localhost:8080/",
          "height": 34
        },
        "outputId": "3caede4a-7c0a-46c7-fa9f-c580ab2c0011"
      },
      "source": [
        "numbers = [1, 2, 3]\n",
        "letters = ['a', 'b', 'c']\n",
        "zipped = zip(numbers, letters)\n",
        "zipped  # Holds an iterator object\n",
        "list(zipped)\n"
      ],
      "execution_count": 44,
      "outputs": [
        {
          "output_type": "execute_result",
          "data": {
            "text/plain": [
              "[(1, 'a'), (2, 'b'), (3, 'c')]"
            ]
          },
          "metadata": {
            "tags": []
          },
          "execution_count": 44
        }
      ]
    },
    {
      "cell_type": "markdown",
      "metadata": {
        "id": "6xHXM6FYySCe",
        "colab_type": "text"
      },
      "source": [
        "cost function"
      ]
    },
    {
      "cell_type": "code",
      "metadata": {
        "id": "BEzrH6d4vVG2",
        "colab_type": "code",
        "colab": {}
      },
      "source": [
        "error=0\n",
        "for x,y in zip(x_data,y_label):\n",
        "  y_hat=weight*x + bias\n",
        "  error=(y - y_hat)**2\n"
      ],
      "execution_count": 45,
      "outputs": []
    },
    {
      "cell_type": "code",
      "metadata": {
        "id": "9HIe-XWAtnS-",
        "colab_type": "code",
        "colab": {
          "base_uri": "https://localhost:8080/",
          "height": 88
        },
        "outputId": "caa25fad-8b17-4405-f1e6-23c200cad70e"
      },
      "source": [
        "optimiser=tf.train.GradientDescentOptimizer(learning_rate=0.001).minimize(error)\n",
        "init=tf.global_variables_initializer()\n"
      ],
      "execution_count": 46,
      "outputs": [
        {
          "output_type": "stream",
          "text": [
            "WARNING:tensorflow:From /tensorflow-1.15.2/python3.6/tensorflow_core/python/ops/math_grad.py:1375: where (from tensorflow.python.ops.array_ops) is deprecated and will be removed in a future version.\n",
            "Instructions for updating:\n",
            "Use tf.where in 2.0, which has the same broadcast rule as np.where\n"
          ],
          "name": "stdout"
        }
      ]
    },
    {
      "cell_type": "code",
      "metadata": {
        "id": "JlwWzw8Lzevz",
        "colab_type": "code",
        "colab": {}
      },
      "source": [
        "train=optimiser.minimize(error)"
      ],
      "execution_count": null,
      "outputs": []
    },
    {
      "cell_type": "code",
      "metadata": {
        "id": "Am5O368Ozljj",
        "colab_type": "code",
        "colab": {}
      },
      "source": [
        "init=tf.global_variables_initializer()"
      ],
      "execution_count": null,
      "outputs": []
    },
    {
      "cell_type": "code",
      "metadata": {
        "id": "-Dto8v9CzmA-",
        "colab_type": "code",
        "colab": {}
      },
      "source": [
        "with tf.Session() as sess:\n",
        "  sess.run(init)\n",
        "  epochs=25\n",
        "  for i in range(epochs):\n",
        "    sess.run(optimiser)\n",
        "    final_slope,final_intercept=sess.run([weight,bias])"
      ],
      "execution_count": 47,
      "outputs": []
    },
    {
      "cell_type": "code",
      "metadata": {
        "id": "yeP9EUK_zlf8",
        "colab_type": "code",
        "colab": {
          "base_uri": "https://localhost:8080/",
          "height": 34
        },
        "outputId": "c5e2fb6a-e0ed-45bc-f687-40ffd8a1b02d"
      },
      "source": [
        "final_slope"
      ],
      "execution_count": 48,
      "outputs": [
        {
          "output_type": "execute_result",
          "data": {
            "text/plain": [
              "0.9852346"
            ]
          },
          "metadata": {
            "tags": []
          },
          "execution_count": 48
        }
      ]
    },
    {
      "cell_type": "code",
      "metadata": {
        "id": "n1z75TCZ1F0J",
        "colab_type": "code",
        "colab": {
          "base_uri": "https://localhost:8080/",
          "height": 34
        },
        "outputId": "9e240fa7-1ed3-4a5e-d963-62d14ba4b6ab"
      },
      "source": [
        "final_intercept"
      ],
      "execution_count": 49,
      "outputs": [
        {
          "output_type": "execute_result",
          "data": {
            "text/plain": [
              "0.08907468"
            ]
          },
          "metadata": {
            "tags": []
          },
          "execution_count": 49
        }
      ]
    },
    {
      "cell_type": "code",
      "metadata": {
        "id": "K5yk5sRO1rsg",
        "colab_type": "code",
        "colab": {
          "base_uri": "https://localhost:8080/",
          "height": 282
        },
        "outputId": "8807ed36-7730-4cff-e819-dab2def56d58"
      },
      "source": [
        "x_test=np.linspace(-1,15,10) \n",
        "y_test=np.linspace(-1,14,10) + np.random.uniform(-1.5,1.5 ,10)\n",
        "y_pred_plot=final_slope*x_test + final_intercept\n",
        "plt.scatter(x_test,y_test,c='red',marker='o')\n",
        "plt.plot(x_test,y_pred_plot,'g')\n",
        "plt.plot(x_data,y_label,'*')\n"
      ],
      "execution_count": 50,
      "outputs": [
        {
          "output_type": "execute_result",
          "data": {
            "text/plain": [
              "[<matplotlib.lines.Line2D at 0x7f4a89457860>]"
            ]
          },
          "metadata": {
            "tags": []
          },
          "execution_count": 50
        },
        {
          "output_type": "display_data",
          "data": {
            "image/png": "[encoded data removed]",
            "text/plain": [
              "<Figure size 432x288 with 1 Axes>"
            ]
          },
          "metadata": {
            "tags": [],
            "needs_background": "light"
          }
        }
      ]
    },
    {
      "cell_type": "code",
      "metadata": {
        "id": "_OhsElHG3Vdk",
        "colab_type": "code",
        "colab": {
          "base_uri": "https://localhost:8080/",
          "height": 51
        },
        "outputId": "b1c68492-e58f-4bb7-a9b8-f4a8d04df284"
      },
      "source": [
        "y_test"
      ],
      "execution_count": 51,
      "outputs": [
        {
          "output_type": "execute_result",
          "data": {
            "text/plain": [
              "array([-2.06014429,  0.72996807,  1.97573672,  4.49397795,  5.00615739,\n",
              "        6.61250759,  8.19396665,  9.84893101, 13.37283824, 15.17087268])"
            ]
          },
          "metadata": {
            "tags": []
          },
          "execution_count": 51
        }
      ]
    },
    {
      "cell_type": "code",
      "metadata": {
        "id": "6vGgQMrl_3Z3",
        "colab_type": "code",
        "colab": {
          "base_uri": "https://localhost:8080/",
          "height": 34
        },
        "outputId": "56490da2-8247-44b4-9e15-26af58d4b47b"
      },
      "source": [
        "training=( y - y_pred_plot)**2\n",
        "print(training.mean())"
      ],
      "execution_count": 52,
      "outputs": [
        {
          "output_type": "stream",
          "text": [
            "42.448254482777884\n"
          ],
          "name": "stdout"
        }
      ]
    },
    {
      "cell_type": "code",
      "metadata": {
        "id": "8CO4u6jGBS44",
        "colab_type": "code",
        "colab": {
          "base_uri": "https://localhost:8080/",
          "height": 51
        },
        "outputId": "ce22b4ef-c8a3-4b97-c3e9-235ef50c0071"
      },
      "source": [
        "(y_label - y_pred_plot)**2\n"
      ],
      "execution_count": 53,
      "outputs": [
        {
          "output_type": "execute_result",
          "data": {
            "text/plain": [
              "array([ 1.53607588,  0.04823262,  0.4659603 ,  0.07945114,  5.99772418,\n",
              "        5.11127645,  4.99060856,  8.66484785, 29.24523695, 14.00265256])"
            ]
          },
          "metadata": {
            "tags": []
          },
          "execution_count": 53
        }
      ]
    },
    {
      "cell_type": "code",
      "metadata": {
        "id": "_J_un2EEAX5W",
        "colab_type": "code",
        "colab": {
          "base_uri": "https://localhost:8080/",
          "height": 51
        },
        "outputId": "4d11f0f8-59fb-4771-8838-4e6b27b95cab"
      },
      "source": [
        "y_pred_plot"
      ],
      "execution_count": 54,
      "outputs": [
        {
          "output_type": "execute_result",
          "data": {
            "text/plain": [
              "array([-0.89615994,  0.85536827,  2.60689648,  4.35842469,  6.1099529 ,\n",
              "        7.86148111,  9.61300932, 11.36453753, 13.11606574, 14.86759395])"
            ]
          },
          "metadata": {
            "tags": []
          },
          "execution_count": 54
        }
      ]
    },
    {
      "cell_type": "code",
      "metadata": {
        "id": "_tx_sM-ZAWJR",
        "colab_type": "code",
        "colab": {
          "base_uri": "https://localhost:8080/",
          "height": 51
        },
        "outputId": "e5a4d11b-416b-42e6-9ed0-e79a6a13a5ab"
      },
      "source": [
        "y_label"
      ],
      "execution_count": 55,
      "outputs": [
        {
          "output_type": "execute_result",
          "data": {
            "text/plain": [
              "array([ 0.34322534,  1.07498753,  3.28950933,  4.0765539 ,  3.66092775,\n",
              "        5.60066788,  7.37904232,  8.42092617,  7.70817919, 11.12558212])"
            ]
          },
          "metadata": {
            "tags": []
          },
          "execution_count": 55
        }
      ]
    },
    {
      "cell_type": "markdown",
      "metadata": {
        "id": "fB_Wqfqz6ODV",
        "colab_type": "text"
      },
      "source": [
        "note: we always draw plot between x_Test and y pred value because y is the value which we are finding"
      ]
    },
    {
      "cell_type": "code",
      "metadata": {
        "id": "s_s1KpT18JNe",
        "colab_type": "code",
        "colab": {
          "base_uri": "https://localhost:8080/",
          "height": 51
        },
        "outputId": "31a22424-2e4b-4ac1-cf2e-4de28399241c"
      },
      "source": [
        "x_test"
      ],
      "execution_count": 56,
      "outputs": [
        {
          "output_type": "execute_result",
          "data": {
            "text/plain": [
              "array([-1.        ,  0.77777778,  2.55555556,  4.33333333,  6.11111111,\n",
              "        7.88888889,  9.66666667, 11.44444444, 13.22222222, 15.        ])"
            ]
          },
          "metadata": {
            "tags": []
          },
          "execution_count": 56
        }
      ]
    },
    {
      "cell_type": "code",
      "metadata": {
        "id": "KKKZ6aRs8TDT",
        "colab_type": "code",
        "colab": {
          "base_uri": "https://localhost:8080/",
          "height": 51
        },
        "outputId": "bb899a1d-e1b1-45d1-ab22-442d77e5eef6"
      },
      "source": [
        "y_test"
      ],
      "execution_count": 57,
      "outputs": [
        {
          "output_type": "execute_result",
          "data": {
            "text/plain": [
              "array([-2.06014429,  0.72996807,  1.97573672,  4.49397795,  5.00615739,\n",
              "        6.61250759,  8.19396665,  9.84893101, 13.37283824, 15.17087268])"
            ]
          },
          "metadata": {
            "tags": []
          },
          "execution_count": 57
        }
      ]
    },
    {
      "cell_type": "code",
      "metadata": {
        "id": "dBHFZUDM8LcY",
        "colab_type": "code",
        "colab": {
          "base_uri": "https://localhost:8080/",
          "height": 51
        },
        "outputId": "4a7fea2c-6c4a-4585-83e7-3dd6e46bf482"
      },
      "source": [
        "y_pred_plot"
      ],
      "execution_count": 58,
      "outputs": [
        {
          "output_type": "execute_result",
          "data": {
            "text/plain": [
              "array([-0.89615994,  0.85536827,  2.60689648,  4.35842469,  6.1099529 ,\n",
              "        7.86148111,  9.61300932, 11.36453753, 13.11606574, 14.86759395])"
            ]
          },
          "metadata": {
            "tags": []
          },
          "execution_count": 58
        }
      ]
    },
    {
      "cell_type": "code",
      "metadata": {
        "id": "hMt2fNfb52PL",
        "colab_type": "code",
        "colab": {
          "base_uri": "https://localhost:8080/",
          "height": 282
        },
        "outputId": "ed1b9c37-84e8-442c-c342-0ad72a52a006"
      },
      "source": [
        " \n",
        "plt.scatter(x_test,y_test)       "
      ],
      "execution_count": 59,
      "outputs": [
        {
          "output_type": "execute_result",
          "data": {
            "text/plain": [
              "<matplotlib.collections.PathCollection at 0x7f4a893cd358>"
            ]
          },
          "metadata": {
            "tags": []
          },
          "execution_count": 59
        },
        {
          "output_type": "display_data",
          "data": {
            "image/png": "[encoded data removed]",
            "text/plain": [
              "<Figure size 432x288 with 1 Axes>"
            ]
          },
          "metadata": {
            "tags": [],
            "needs_background": "light"
          }
        }
      ]
    },
    {
      "cell_type": "code",
      "metadata": {
        "id": "B6BZQlnFCJr_",
        "colab_type": "code",
        "colab": {
          "base_uri": "https://localhost:8080/",
          "height": 34
        },
        "outputId": "7d52de00-c174-4e2e-e172-ddc842b9a2f4"
      },
      "source": [
        "testing=(y_test-y_pred_plot)**2\n",
        "testing.mean()"
      ],
      "execution_count": 60,
      "outputs": [
        {
          "output_type": "execute_result",
          "data": {
            "text/plain": [
              "0.9034276805970929"
            ]
          },
          "metadata": {
            "tags": []
          },
          "execution_count": 60
        }
      ]
    },
    {
      "cell_type": "markdown",
      "metadata": {
        "id": "gmwfXQxl3Dp-",
        "colab_type": "text"
      },
      "source": [
        "# part-4"
      ]
    },
    {
      "cell_type": "code",
      "metadata": {
        "id": "OMzbeud73M8O",
        "colab_type": "code",
        "colab": {}
      },
      "source": [
        ""
      ],
      "execution_count": null,
      "outputs": []
    }
  ]
}