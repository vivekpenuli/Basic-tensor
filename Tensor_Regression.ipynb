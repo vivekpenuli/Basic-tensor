{
  "nbformat": 4,
  "nbformat_minor": 0,
  "metadata": {
    "colab": {
      "name": "Tensor Regression",
      "provenance": [],
      "collapsed_sections": [],
      "authorship_tag": "ABX9TyO+MWr0B7KwhX3Mg+ck7MN6",
      "include_colab_link": true
    },
    "kernelspec": {
      "name": "python3",
      "display_name": "Python 3"
    }
  },
  "cells": [
    {
      "cell_type": "markdown",
      "metadata": {
        "id": "view-in-github",
        "colab_type": "text"
      },
      "source": [
        "<a href=\"https://colab.research.google.com/github/vivekpenuli/Tensorflow/blob/master/Tensor_Regression.ipynb\" target=\"_parent\"><img src=\"https://colab.research.google.com/assets/colab-badge.svg\" alt=\"Open In Colab\"/></a>"
      ]
    },
    {
      "cell_type": "code",
      "metadata": {
        "id": "sc7hPdpD55NJ",
        "colab_type": "code",
        "colab": {
          "base_uri": "https://localhost:8080/",
          "height": 34
        },
        "outputId": "975683e5-00db-4b1a-d7f7-2eef890e971f"
      },
      "source": [
        "%tensorflow_version 1.x\n"
      ],
      "execution_count": 1,
      "outputs": [
        {
          "output_type": "stream",
          "text": [
            "TensorFlow 1.x selected.\n"
          ],
          "name": "stdout"
        }
      ]
    },
    {
      "cell_type": "code",
      "metadata": {
        "id": "dXXwYFh440cZ",
        "colab_type": "code",
        "colab": {
          "base_uri": "https://localhost:8080/",
          "height": 71
        },
        "outputId": "a781d746-a9ff-4264-ac5b-acb3e7bc433d"
      },
      "source": [
        "import numpy as np \n",
        "import tensorflow as tf \n",
        "import matplotlib.pyplot as plt \n",
        "import seaborn as sns"
      ],
      "execution_count": 2,
      "outputs": [
        {
          "output_type": "stream",
          "text": [
            "/usr/local/lib/python3.6/dist-packages/statsmodels/tools/_testing.py:19: FutureWarning: pandas.util.testing is deprecated. Use the functions in the public API at pandas.testing instead.\n",
            "  import pandas.util.testing as tm\n"
          ],
          "name": "stderr"
        }
      ]
    },
    {
      "cell_type": "code",
      "metadata": {
        "id": "B6SnLdZw6AYs",
        "colab_type": "code",
        "colab": {
          "base_uri": "https://localhost:8080/",
          "height": 34
        },
        "outputId": "e99701ec-4fce-4623-bfaa-9399dd540ff1"
      },
      "source": [
        "print(tf.__version__)"
      ],
      "execution_count": 3,
      "outputs": [
        {
          "output_type": "stream",
          "text": [
            "1.15.2\n"
          ],
          "name": "stdout"
        }
      ]
    },
    {
      "cell_type": "code",
      "metadata": {
        "id": "_9uea3Pd6O8T",
        "colab_type": "code",
        "colab": {
          "base_uri": "https://localhost:8080/",
          "height": 51
        },
        "outputId": "d7b93fad-2d62-4bd6-b61d-ef670ac2381c"
      },
      "source": [
        "x_data=np.linspace(1,11,10) + np.random.uniform(-1.5,1.5,10)\n",
        "x_data"
      ],
      "execution_count": 4,
      "outputs": [
        {
          "output_type": "execute_result",
          "data": {
            "text/plain": [
              "array([ 0.12701875,  2.04296719,  3.09510925,  4.25879828,  5.71474864,\n",
              "        7.23589869,  6.40967922,  9.80218541, 10.73835825,  9.53670499])"
            ]
          },
          "metadata": {
            "tags": []
          },
          "execution_count": 4
        }
      ]
    },
    {
      "cell_type": "code",
      "metadata": {
        "id": "kQCNd31b6OZu",
        "colab_type": "code",
        "colab": {
          "base_uri": "https://localhost:8080/",
          "height": 51
        },
        "outputId": "5213cb9d-eaaf-4f77-da14-eed4ecadce68"
      },
      "source": [
        "y_label=np.linspace(1,10,10) + np.random.uniform(-1.5,1.5,10)\n",
        "y_label"
      ],
      "execution_count": 5,
      "outputs": [
        {
          "output_type": "execute_result",
          "data": {
            "text/plain": [
              "array([-0.08425892,  3.37767422,  2.91015144,  5.46564172,  6.21622633,\n",
              "        7.19958421,  8.24099764,  8.28251304,  7.61554298,  8.50027043])"
            ]
          },
          "metadata": {
            "tags": []
          },
          "execution_count": 5
        }
      ]
    },
    {
      "cell_type": "code",
      "metadata": {
        "id": "I42dKHGy9H9H",
        "colab_type": "code",
        "colab": {
          "base_uri": "https://localhost:8080/",
          "height": 265
        },
        "outputId": "52265c62-1035-4b15-d355-1c5d0399e537"
      },
      "source": [
        "ax = sns.scatterplot(x=x_data, y=y_label)"
      ],
      "execution_count": 6,
      "outputs": [
        {
          "output_type": "display_data",
          "data": {
            "image/png": "[encoded data removed]",
            "text/plain": [
              "<Figure size 432x288 with 1 Axes>"
            ]
          },
          "metadata": {
            "tags": [],
            "needs_background": "light"
          }
        }
      ]
    },
    {
      "cell_type": "code",
      "metadata": {
        "id": "4Lx_gS2D6OQQ",
        "colab_type": "code",
        "colab": {}
      },
      "source": [
        "weight=tf.Variable(initial_value=0.1)\n",
        "bias=tf.Variable(initial_value=0.01)"
      ],
      "execution_count": 7,
      "outputs": []
    },
    {
      "cell_type": "code",
      "metadata": {
        "id": "3KmV0kl06OMr",
        "colab_type": "code",
        "colab": {
          "base_uri": "https://localhost:8080/",
          "height": 34
        },
        "outputId": "cc128615-8bf0-4732-8240-4e1889d200c0"
      },
      "source": [
        "xph=tf.placeholder(tf.float32)\n",
        "yph=tf.placeholder(tf.float32)\n",
        "n = len(x_data)\n",
        "print(n)"
      ],
      "execution_count": 8,
      "outputs": [
        {
          "output_type": "stream",
          "text": [
            "10\n"
          ],
          "name": "stdout"
        }
      ]
    },
    {
      "cell_type": "code",
      "metadata": {
        "id": "q7ol5673T1gK",
        "colab_type": "code",
        "colab": {}
      },
      "source": [
        "y_pred = tf.add(tf.multiply(xph, weight), bias) "
      ],
      "execution_count": 9,
      "outputs": []
    },
    {
      "cell_type": "code",
      "metadata": {
        "id": "lYy4kpipJ6uY",
        "colab_type": "code",
        "colab": {}
      },
      "source": [
        "mse=(tf.pow(tf.math.subtract(y_pred,yph), 2)) / (2 * n) "
      ],
      "execution_count": 10,
      "outputs": []
    },
    {
      "cell_type": "code",
      "metadata": {
        "id": "twF3ZsDBUBZq",
        "colab_type": "code",
        "colab": {
          "base_uri": "https://localhost:8080/",
          "height": 88
        },
        "outputId": "a2ee043a-e10c-463b-b5ba-a8c19ddee70a"
      },
      "source": [
        "optimiser=tf.train.GradientDescentOptimizer(learning_rate=0.001).minimize(mse)\n",
        "init=tf.global_variables_initializer()"
      ],
      "execution_count": 11,
      "outputs": [
        {
          "output_type": "stream",
          "text": [
            "WARNING:tensorflow:From /tensorflow-1.15.2/python3.6/tensorflow_core/python/ops/math_grad.py:1375: where (from tensorflow.python.ops.array_ops) is deprecated and will be removed in a future version.\n",
            "Instructions for updating:\n",
            "Use tf.where in 2.0, which has the same broadcast rule as np.where\n"
          ],
          "name": "stdout"
        }
      ]
    },
    {
      "cell_type": "code",
      "metadata": {
        "id": "BsxJDi3gP-03",
        "colab_type": "code",
        "colab": {}
      },
      "source": [
        "learning_rate = 0.001\n",
        "epochs =1000"
      ],
      "execution_count": 30,
      "outputs": []
    },
    {
      "cell_type": "code",
      "metadata": {
        "id": "Hi73hX3P_szl",
        "colab_type": "code",
        "colab": {}
      },
      "source": [
        "\n",
        "with tf.Session() as sess:       \n",
        "    sess.run(init) # first step variable initaliser\n",
        "\n",
        "    for epoch in range(epochs):\n",
        "        for (_x, _y) in zip(x_data, y_label): \n",
        "            sess.run(optimiser,feed_dict = {xph : _x, yph : _y}) \n",
        "    we= sess.run(weight) \n",
        "    bi = sess.run(bias) \n",
        "    \n"
      ],
      "execution_count": 31,
      "outputs": []
    },
    {
      "cell_type": "code",
      "metadata": {
        "id": "X9OHDfHEd1wb",
        "colab_type": "code",
        "colab": {}
      },
      "source": [
        ""
      ],
      "execution_count": null,
      "outputs": []
    },
    {
      "cell_type": "markdown",
      "metadata": {
        "id": "qNYtepN6cQ8G",
        "colab_type": "text"
      },
      "source": [
        "# MSE\n",
        "the mse is calculated through predicted values and y actual value"
      ]
    },
    {
      "cell_type": "code",
      "metadata": {
        "id": "CcUB_9RecQCO",
        "colab_type": "code",
        "colab": {}
      },
      "source": [
        "predictions=tf.add(tf.multiply(we,x_data), bi) "
      ],
      "execution_count": 32,
      "outputs": []
    },
    {
      "cell_type": "code",
      "metadata": {
        "id": "F_52Q2U2el-s",
        "colab_type": "code",
        "colab": {
          "base_uri": "https://localhost:8080/",
          "height": 51
        },
        "outputId": "f8beb72b-b0aa-4d39-80ba-22c37235bd09"
      },
      "source": [
        "\n",
        "init=tf.global_variables_initializer()\n",
        "with tf.Session() as sess:\n",
        "  sess.run(init)\n",
        "  op=sess.run(predictions)\n",
        "  print(op)"
      ],
      "execution_count": 33,
      "outputs": [
        {
          "output_type": "stream",
          "text": [
            "[0.50404507 2.1687298  3.0828903  4.0939693  5.358982   6.680643\n",
            " 5.962777   8.910378   9.72378    8.679715  ]\n"
          ],
          "name": "stdout"
        }
      ]
    },
    {
      "cell_type": "code",
      "metadata": {
        "id": "H5h7TR44fPb5",
        "colab_type": "code",
        "colab": {}
      },
      "source": [
        "mse11=(tf.pow(tf.math.subtract(predictions,y_label), 2)) / (2 * n) "
      ],
      "execution_count": 34,
      "outputs": []
    },
    {
      "cell_type": "code",
      "metadata": {
        "id": "-rLS3Zy2fYSQ",
        "colab_type": "code",
        "colab": {
          "base_uri": "https://localhost:8080/",
          "height": 51
        },
        "outputId": "f9ed4035-d21e-4ba0-c9b1-6d8db082e3df"
      },
      "source": [
        "init=tf.global_variables_initializer()\n",
        "with tf.Session() as sess:\n",
        "  sess.run(init)\n",
        "  opp=sess.run(mse11)\n",
        "  print(opp)\n",
        "  super=opp.sum()"
      ],
      "execution_count": 35,
      "outputs": [
        {
          "output_type": "stream",
          "text": [
            "[0.01730508 0.07307732 0.00149193 0.09407423 0.03674337 0.01346498\n",
            " 0.25951436 0.01971077 0.22223313 0.00161001]\n"
          ],
          "name": "stdout"
        }
      ]
    },
    {
      "cell_type": "code",
      "metadata": {
        "id": "tiodIJHDflgk",
        "colab_type": "code",
        "colab": {
          "base_uri": "https://localhost:8080/",
          "height": 51
        },
        "outputId": "3646c88b-1375-4b9e-a5fb-e05144165dd3"
      },
      "source": [
        "print(\"Training cost =\",super, \"Weight =\", we, \"bias =\", bi, '\\n')"
      ],
      "execution_count": 36,
      "outputs": [
        {
          "output_type": "stream",
          "text": [
            "Training cost = 0.7392252 Weight = 0.8688567 bias = 0.393684 \n",
            "\n"
          ],
          "name": "stdout"
        }
      ]
    },
    {
      "cell_type": "code",
      "metadata": {
        "id": "_QVlyoQzBrpI",
        "colab_type": "code",
        "colab": {
          "base_uri": "https://localhost:8080/",
          "height": 34
        },
        "outputId": "00dacec2-109c-4d79-bb72-18548520edc1"
      },
      "source": [
        "print(predictions)"
      ],
      "execution_count": 37,
      "outputs": [
        {
          "output_type": "stream",
          "text": [
            "Tensor(\"Add_3:0\", shape=(10,), dtype=float32)\n"
          ],
          "name": "stdout"
        }
      ]
    },
    {
      "cell_type": "code",
      "metadata": {
        "id": "TOMwHm6wfi1C",
        "colab_type": "code",
        "colab": {
          "base_uri": "https://localhost:8080/",
          "height": 315
        },
        "outputId": "11624344-2655-4298-e634-d89b157c7b47"
      },
      "source": [
        "with tf.Session() as sess:\n",
        "  sess.run(init)\n",
        "  sp=sess.run(predictions)\n",
        "  print(sp)\n",
        "  plt.plot(x_data, y_label, 'ro', label ='Original data') \n",
        "  plt.plot(x_data, sp, label ='Fitted line') \n",
        "  plt.title('Linear Regression Result') \n"
      ],
      "execution_count": 38,
      "outputs": [
        {
          "output_type": "stream",
          "text": [
            "[0.50404507 2.1687298  3.0828903  4.0939693  5.358982   6.680643\n",
            " 5.962777   8.910378   9.72378    8.679715  ]\n"
          ],
          "name": "stdout"
        },
        {
          "output_type": "display_data",
          "data": {
            "image/png": "[encoded data removed]",
            "text/plain": [
              "<Figure size 432x288 with 1 Axes>"
            ]
          },
          "metadata": {
            "tags": [],
            "needs_background": "light"
          }
        }
      ]
    }
  ]
}