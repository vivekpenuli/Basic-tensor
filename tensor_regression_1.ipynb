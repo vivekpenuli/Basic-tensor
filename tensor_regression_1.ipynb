{
  "nbformat": 4,
  "nbformat_minor": 0,
  "metadata": {
    "colab": {
      "name": "tensor regression 1",
      "provenance": [],
      "collapsed_sections": [],
      "authorship_tag": "ABX9TyNrNiHhMl1V0+ULxfPbmPrb",
      "include_colab_link": true
    },
    "kernelspec": {
      "name": "python3",
      "display_name": "Python 3"
    }
  },
  "cells": [
    {
      "cell_type": "markdown",
      "metadata": {
        "id": "view-in-github",
        "colab_type": "text"
      },
      "source": [
        "<a href=\"https://colab.research.google.com/github/vivekpenuli/Basic-tensor/blob/master/tensor_regression_1.ipynb\" target=\"_parent\"><img src=\"https://colab.research.google.com/assets/colab-badge.svg\" alt=\"Open In Colab\"/></a>"
      ]
    },
    {
      "cell_type": "code",
      "metadata": {
        "id": "sc7hPdpD55NJ",
        "colab_type": "code",
        "colab": {
          "base_uri": "https://localhost:8080/",
          "height": 34
        },
        "outputId": "ea13bee7-1c29-45b8-aa5f-303d37549996"
      },
      "source": [
        "%tensorflow_version 1.x\n"
      ],
      "execution_count": 1,
      "outputs": [
        {
          "output_type": "stream",
          "text": [
            "TensorFlow 1.x selected.\n"
          ],
          "name": "stdout"
        }
      ]
    },
    {
      "cell_type": "code",
      "metadata": {
        "id": "dXXwYFh440cZ",
        "colab_type": "code",
        "colab": {
          "base_uri": "https://localhost:8080/",
          "height": 71
        },
        "outputId": "50d488bc-44dc-4f2f-871e-2e0631e826ad"
      },
      "source": [
        "import numpy as np \n",
        "import tensorflow as tf \n",
        "import matplotlib.pyplot as plt \n",
        "import seaborn as sns"
      ],
      "execution_count": 2,
      "outputs": [
        {
          "output_type": "stream",
          "text": [
            "/usr/local/lib/python3.6/dist-packages/statsmodels/tools/_testing.py:19: FutureWarning: pandas.util.testing is deprecated. Use the functions in the public API at pandas.testing instead.\n",
            "  import pandas.util.testing as tm\n"
          ],
          "name": "stderr"
        }
      ]
    },
    {
      "cell_type": "code",
      "metadata": {
        "id": "B6SnLdZw6AYs",
        "colab_type": "code",
        "colab": {
          "base_uri": "https://localhost:8080/",
          "height": 34
        },
        "outputId": "e3056062-ece2-4d25-c874-9137704da87a"
      },
      "source": [
        "print(tf.__version__)"
      ],
      "execution_count": 3,
      "outputs": [
        {
          "output_type": "stream",
          "text": [
            "1.15.2\n"
          ],
          "name": "stdout"
        }
      ]
    },
    {
      "cell_type": "code",
      "metadata": {
        "id": "_9uea3Pd6O8T",
        "colab_type": "code",
        "colab": {
          "base_uri": "https://localhost:8080/",
          "height": 51
        },
        "outputId": "d5389880-b53f-4662-efec-8eb9659c1b6e"
      },
      "source": [
        "x_data=np.linspace(1,11,10) + np.random.uniform(-1.5,1.5,10)\n",
        "x_data"
      ],
      "execution_count": 4,
      "outputs": [
        {
          "output_type": "execute_result",
          "data": {
            "text/plain": [
              "array([ 1.58068415,  3.35979394,  3.67834487,  3.46153039,  6.52541741,\n",
              "        5.16646431,  7.31135882,  9.12726564,  9.44791248, 10.97945416])"
            ]
          },
          "metadata": {
            "tags": []
          },
          "execution_count": 4
        }
      ]
    },
    {
      "cell_type": "code",
      "metadata": {
        "id": "kQCNd31b6OZu",
        "colab_type": "code",
        "colab": {
          "base_uri": "https://localhost:8080/",
          "height": 51
        },
        "outputId": "358dc824-1dfb-49b8-ba81-88330f6c5bf3"
      },
      "source": [
        "y_label=np.linspace(1,10,10) + np.random.uniform(-1.5,1.5,10)\n",
        "y_label"
      ],
      "execution_count": 5,
      "outputs": [
        {
          "output_type": "execute_result",
          "data": {
            "text/plain": [
              "array([ 1.29611818,  0.94787321,  3.7841713 ,  3.28921019,  3.53094082,\n",
              "        6.78184813,  5.77579562,  8.07828109, 10.32001236, 10.02451273])"
            ]
          },
          "metadata": {
            "tags": []
          },
          "execution_count": 5
        }
      ]
    },
    {
      "cell_type": "code",
      "metadata": {
        "id": "I42dKHGy9H9H",
        "colab_type": "code",
        "colab": {
          "base_uri": "https://localhost:8080/",
          "height": 265
        },
        "outputId": "2eed0c3e-a8a6-4e2c-a70f-feacc7c1953a"
      },
      "source": [
        "ax = sns.scatterplot(x=x_data, y=y_label)"
      ],
      "execution_count": 6,
      "outputs": [
        {
          "output_type": "display_data",
          "data": {
            "image/png": "[encoded data removed]",
            "text/plain": [
              "<Figure size 432x288 with 1 Axes>"
            ]
          },
          "metadata": {
            "tags": [],
            "needs_background": "light"
          }
        }
      ]
    },
    {
      "cell_type": "code",
      "metadata": {
        "id": "4Lx_gS2D6OQQ",
        "colab_type": "code",
        "colab": {}
      },
      "source": [
        "weight=tf.Variable(initial_value=0.1)\n",
        "bias=tf.Variable(initial_value=0.01)"
      ],
      "execution_count": 7,
      "outputs": []
    },
    {
      "cell_type": "code",
      "metadata": {
        "id": "3KmV0kl06OMr",
        "colab_type": "code",
        "colab": {
          "base_uri": "https://localhost:8080/",
          "height": 34
        },
        "outputId": "914dd862-05f8-4933-ad1b-68a602fa4453"
      },
      "source": [
        "xph=tf.placeholder(tf.float32)\n",
        "yph=tf.placeholder(tf.float32)\n",
        "n = len(x_data)\n",
        "print(n)"
      ],
      "execution_count": 8,
      "outputs": [
        {
          "output_type": "stream",
          "text": [
            "10\n"
          ],
          "name": "stdout"
        }
      ]
    },
    {
      "cell_type": "code",
      "metadata": {
        "id": "q7ol5673T1gK",
        "colab_type": "code",
        "colab": {}
      },
      "source": [
        "y_pred = tf.add(tf.multiply(xph, weight), bias) \n",
        "pickle=(tf.pow(y_pred-y_label, 2)) / (2 * n) \n",
        "piko=y_pred-y_label     # here the y_pred is subtracted from each element of y_label array\n",
        "\n",
        "cost = tf.reduce_sum(tf.pow(y_pred-y_label, 2)) / (2 * n) "
      ],
      "execution_count": 9,
      "outputs": []
    },
    {
      "cell_type": "code",
      "metadata": {
        "id": "AAlus_9nVfTr",
        "colab_type": "code",
        "colab": {}
      },
      "source": [
        "sub=tf.math.subtract(y_pred,y_label) \n"
      ],
      "execution_count": 10,
      "outputs": []
    },
    {
      "cell_type": "code",
      "metadata": {
        "id": "twF3ZsDBUBZq",
        "colab_type": "code",
        "colab": {
          "base_uri": "https://localhost:8080/",
          "height": 88
        },
        "outputId": "5ff39e67-c62c-4c2e-bbf9-9023e7501a48"
      },
      "source": [
        "optimiser=tf.train.GradientDescentOptimizer(learning_rate=0.001).minimize(cost)\n",
        "init=tf.global_variables_initializer()"
      ],
      "execution_count": 11,
      "outputs": [
        {
          "output_type": "stream",
          "text": [
            "WARNING:tensorflow:From /tensorflow-1.15.2/python3.6/tensorflow_core/python/ops/math_grad.py:1375: where (from tensorflow.python.ops.array_ops) is deprecated and will be removed in a future version.\n",
            "Instructions for updating:\n",
            "Use tf.where in 2.0, which has the same broadcast rule as np.where\n"
          ],
          "name": "stdout"
        }
      ]
    },
    {
      "cell_type": "code",
      "metadata": {
        "id": "ld2JXbY_X8ap",
        "colab_type": "code",
        "colab": {
          "base_uri": "https://localhost:8080/",
          "height": 34
        },
        "outputId": "cb4f23d0-9ebc-40b9-cf39-5256a4c6e467"
      },
      "source": [
        "x = tf.constant([0.05484341, 0.03746411, 0.3706576 , 0.56825775, 1.8686898,  1.554816, 2.7932866  ,3.4296746 , 4.3673615 , 4.376917  ])\n",
        "glo=tf.reduce_sum(x) \n",
        "with tf.Session() as sess:\n",
        "  re=sess.run(glo)\n",
        "  print(re)"
      ],
      "execution_count": 12,
      "outputs": [
        {
          "output_type": "stream",
          "text": [
            "19.421968\n"
          ],
          "name": "stdout"
        }
      ]
    },
    {
      "cell_type": "code",
      "metadata": {
        "id": "4-ZF8GilGzvr",
        "colab_type": "code",
        "colab": {
          "base_uri": "https://localhost:8080/",
          "height": 187
        },
        "outputId": "f22ddf5e-df9c-4fdf-e51c-d8d9f1e6e732"
      },
      "source": [
        "with tf.Session() as sess:       \n",
        "    sess.run(init) # first step variable initaliser \n",
        "    for (_x, _y) in zip(x_data, y_label): \n",
        "      print(_x,_y)     "
      ],
      "execution_count": 13,
      "outputs": [
        {
          "output_type": "stream",
          "text": [
            "1.5806841542995458 1.2961181832420778\n",
            "3.359793941029797 0.9478732079943806\n",
            "3.6783448743245386 3.7841713042645106\n",
            "3.461530390189099 3.289210188256488\n",
            "6.52541740556581 3.5309408219134992\n",
            "5.166464308711637 6.781848132831346\n",
            "7.311358824633523 5.775795617466726\n",
            "9.127265644900676 8.07828109066358\n",
            "9.447912482813493 10.320012359203469\n",
            "10.979454158590567 10.024512727165604\n"
          ],
          "name": "stdout"
        }
      ]
    },
    {
      "cell_type": "code",
      "metadata": {
        "id": "b9_k4sUoGhe9",
        "colab_type": "code",
        "colab": {
          "base_uri": "https://localhost:8080/",
          "height": 187
        },
        "outputId": "d8808a6c-b2bc-4a0d-daae-b0caff92809c"
      },
      "source": [
        "with tf.Session() as sess:       \n",
        "    sess.run(init)                \n",
        "    for (_x, _y) in zip(x_data, y_label): \n",
        "      result=sess.run(y_pred,feed_dict={xph:_x,yph:_y})          # here x*weight +bias  happen\n",
        "      print(result)   # in output we find predicted element of each element\n",
        "# this is our predicted element it is jsut y(predicted) not ( y-y(predicted))**2"
      ],
      "execution_count": 14,
      "outputs": [
        {
          "output_type": "stream",
          "text": [
            "0.16806842\n",
            "0.3459794\n",
            "0.3778345\n",
            "0.35615304\n",
            "0.66254175\n",
            "0.52664644\n",
            "0.7411359\n",
            "0.9227266\n",
            "0.95479125\n",
            "1.1079454\n"
          ],
          "name": "stdout"
        }
      ]
    },
    {
      "cell_type": "code",
      "metadata": {
        "id": "addZcOJgWtDB",
        "colab_type": "code",
        "colab": {
          "base_uri": "https://localhost:8080/",
          "height": 374
        },
        "outputId": "c543206f-bf1f-4860-e093-e142853f0cdd"
      },
      "source": [
        "with tf.Session() as sess:       \n",
        "    sess.run(init)                 \n",
        "    for (_x, _y) in zip(x_data, y_label): \n",
        "      result5=sess.run(sub,feed_dict={xph:_x,yph:_y})  \n",
        "      print(result5) # since the problem is that y_label is entire an array therfore individual elment are not subtracted like this\n",
        "  # here the predicted element is subtracted from y_label (y-y(predict))"
      ],
      "execution_count": 15,
      "outputs": [
        {
          "output_type": "stream",
          "text": [
            "[ -1.1280497  -0.7798048  -3.616103   -3.1211417  -3.3628724  -6.613779\n",
            "  -5.607727   -7.9102125 -10.151943   -9.856443 ]\n",
            "[-0.95013875 -0.60189384 -3.438192   -2.9432306  -3.1849613  -6.4358683\n",
            " -5.429816   -7.7323017  -9.974032   -9.678533  ]\n",
            "[-0.91828364 -0.57003874 -3.4063368  -2.9113755  -3.1531062  -6.404013\n",
            " -5.3979607  -7.7004466  -9.942178   -9.646678  ]\n",
            "[-0.9399651 -0.5917202 -3.4280183 -2.933057  -3.1747878 -6.4256945\n",
            " -5.419642  -7.722128  -9.963859  -9.668359 ]\n",
            "[-0.6335764 -0.2853315 -3.1216297 -2.6266685 -2.8683991 -6.119306\n",
            " -5.1132536 -7.4157395 -9.65747   -9.36197  ]\n",
            "[-0.7694717 -0.4212268 -3.257525  -2.7625637 -3.0042944 -6.2552013\n",
            " -5.249149  -7.551635  -9.7933655 -9.497866 ]\n",
            "[-0.55498224 -0.20673734 -3.0430355  -2.5480742  -2.789805   -6.040712\n",
            " -5.0346594  -7.3371453  -9.578876   -9.283376  ]\n",
            "[-0.37339157 -0.02514666 -2.8614447  -2.3664834  -2.6082141  -5.8591213\n",
            " -4.853069   -7.155555   -9.397285   -9.101786  ]\n",
            "[-3.4132689e-01  6.9180131e-03 -2.8293800e+00 -2.3344188e+00\n",
            " -2.5761495e+00 -5.8270564e+00 -4.8210039e+00 -7.1234899e+00\n",
            " -9.3652210e+00 -9.0697212e+00]\n",
            "[-0.1881727   0.16007221 -2.676226   -2.1812646  -2.4229953  -5.6739025\n",
            " -4.6678495  -6.970336   -9.212067   -8.916567  ]\n"
          ],
          "name": "stdout"
        }
      ]
    },
    {
      "cell_type": "code",
      "metadata": {
        "id": "dojZDgmyHpoc",
        "colab_type": "code",
        "colab": {
          "base_uri": "https://localhost:8080/",
          "height": 374
        },
        "outputId": "3ac1c59b-60aa-425b-ef4b-474cf746ea83"
      },
      "source": [
        "with tf.Session() as sess:       \n",
        "    sess.run(init)                 \n",
        "    for (_x, _y) in zip(x_data, y_label): \n",
        "      result2=sess.run(piko,feed_dict={xph:_x,yph:_y})          \n",
        "      print(result2)   # here [y(predict)- y_label]  [(-0.0359)-1.011]"
      ],
      "execution_count": 16,
      "outputs": [
        {
          "output_type": "stream",
          "text": [
            "[ -1.1280497  -0.7798048  -3.616103   -3.1211417  -3.3628724  -6.613779\n",
            "  -5.607727   -7.9102125 -10.151943   -9.856443 ]\n",
            "[-0.95013875 -0.60189384 -3.438192   -2.9432306  -3.1849613  -6.4358683\n",
            " -5.429816   -7.7323017  -9.974032   -9.678533  ]\n",
            "[-0.91828364 -0.57003874 -3.4063368  -2.9113755  -3.1531062  -6.404013\n",
            " -5.3979607  -7.7004466  -9.942178   -9.646678  ]\n",
            "[-0.9399651 -0.5917202 -3.4280183 -2.933057  -3.1747878 -6.4256945\n",
            " -5.419642  -7.722128  -9.963859  -9.668359 ]\n",
            "[-0.6335764 -0.2853315 -3.1216297 -2.6266685 -2.8683991 -6.119306\n",
            " -5.1132536 -7.4157395 -9.65747   -9.36197  ]\n",
            "[-0.7694717 -0.4212268 -3.257525  -2.7625637 -3.0042944 -6.2552013\n",
            " -5.249149  -7.551635  -9.7933655 -9.497866 ]\n",
            "[-0.55498224 -0.20673734 -3.0430355  -2.5480742  -2.789805   -6.040712\n",
            " -5.0346594  -7.3371453  -9.578876   -9.283376  ]\n",
            "[-0.37339157 -0.02514666 -2.8614447  -2.3664834  -2.6082141  -5.8591213\n",
            " -4.853069   -7.155555   -9.397285   -9.101786  ]\n",
            "[-3.4132689e-01  6.9180131e-03 -2.8293800e+00 -2.3344188e+00\n",
            " -2.5761495e+00 -5.8270564e+00 -4.8210039e+00 -7.1234899e+00\n",
            " -9.3652210e+00 -9.0697212e+00]\n",
            "[-0.1881727   0.16007221 -2.676226   -2.1812646  -2.4229953  -5.6739025\n",
            " -4.6678495  -6.970336   -9.212067   -8.916567  ]\n"
          ],
          "name": "stdout"
        }
      ]
    },
    {
      "cell_type": "markdown",
      "metadata": {
        "id": "UAU-lJWFUEXg",
        "colab_type": "text"
      },
      "source": [
        "2.3e-5, means 2.3 times ten to the minus five power, or 0.000023\n",
        "4.5e6 means\n",
        " 4.5 times ten to the sixth power, or 4500000 which is the same as 4,500,000\n",
        "\n",
        "\n"
      ]
    },
    {
      "cell_type": "code",
      "metadata": {
        "id": "TTD9d3FnLPeD",
        "colab_type": "code",
        "colab": {
          "base_uri": "https://localhost:8080/",
          "height": 357
        },
        "outputId": "a52bd104-0b52-4352-a96d-3af8b4a3aec5"
      },
      "source": [
        "with tf.Session() as sess:       \n",
        "    sess.run(init)                 \n",
        "    for (_x, _y) in zip(x_data, y_label): \n",
        "      result3=sess.run(pickle,feed_dict={xph:_x,yph:_y})          \n",
        "      print(result3)   # here [y(predict) -y]**2 / 20 happen "
      ],
      "execution_count": 17,
      "outputs": [
        {
          "output_type": "stream",
          "text": [
            "[0.06362481 0.03040478 0.65381    0.48707628 0.56544554 2.1871037\n",
            " 1.5723301  3.1285732  5.1530976  4.857474  ]\n",
            "[0.04513818 0.01811381 0.5910582  0.43313032 0.507199   2.07102\n",
            " 1.4741449  2.9894245  4.9740663  4.6837    ]\n",
            "[0.04216224 0.01624721 0.5801565  0.4238054  0.49710393 2.0505693\n",
            " 1.456899   2.964844   4.942345   4.65292   ]\n",
            "[0.04417672 0.01750664 0.5875655  0.4301412  0.5039639  2.0644777\n",
            " 1.4686259  2.981563   4.963924   4.673858  ]\n",
            "[2.0070953e-02 4.0707029e-03 4.8722860e-01 3.4496936e-01 4.1138569e-01\n",
            " 1.8722954e+00 1.3072681e+00 2.7496598e+00 4.6633363e+00 4.3823242e+00]\n",
            "[0.02960434 0.0088716  0.5305735  0.38158792 0.45128924 1.9563773\n",
            " 1.3776783  2.8513594  4.7955003  4.510473  ]\n",
            "[1.5400265e-02 2.1370163e-03 4.6300325e-01 3.2463413e-01 3.8915059e-01\n",
            " 1.8245100e+00 1.2673898e+00 2.6916852e+00 4.5877433e+00 4.3090534e+00]\n",
            "[6.9710636e-03 3.1617736e-05 4.0939331e-01 2.8001222e-01 3.4013906e-01\n",
            " 1.7164652e+00 1.1776139e+00 2.5600984e+00 4.4154487e+00 4.1421251e+00]\n",
            "[5.8252024e-03 2.3929454e-06 4.0026957e-01 2.7247557e-01 3.3182731e-01\n",
            " 1.6977293e+00 1.1621040e+00 2.5372055e+00 4.3853683e+00 4.1129923e+00]\n",
            "[1.7704482e-03 1.2811556e-03 3.5810927e-01 2.3789577e-01 2.9354534e-01\n",
            " 1.6096585e+00 1.0894411e+00 2.4292791e+00 4.2431087e+00 3.9752584e+00]\n"
          ],
          "name": "stdout"
        }
      ]
    },
    {
      "cell_type": "code",
      "metadata": {
        "id": "jO6Vqq9xSp6o",
        "colab_type": "code",
        "colab": {
          "base_uri": "https://localhost:8080/",
          "height": 187
        },
        "outputId": "3671510e-67f5-4fe1-e732-ab350ef48350"
      },
      "source": [
        "with tf.Session() as sess:       \n",
        "    sess.run(init)                 \n",
        "    for (_x, _y) in zip(x_data, y_label): \n",
        "      result4=sess.run(cost,feed_dict={xph:_x,yph:_y})          \n",
        "      print(result4)     # here cost have reduce sum therfore each each element in each array is sum"
      ],
      "execution_count": 18,
      "outputs": [
        {
          "output_type": "stream",
          "text": [
            "18.69894\n",
            "17.786995\n",
            "17.627052\n",
            "17.735804\n",
            "16.242609\n",
            "16.893314\n",
            "15.874707\n",
            "15.048297\n",
            "14.905799\n",
            "14.239348\n"
          ],
          "name": "stdout"
        }
      ]
    },
    {
      "cell_type": "code",
      "metadata": {
        "id": "BsxJDi3gP-03",
        "colab_type": "code",
        "colab": {}
      },
      "source": [
        "learning_rate = 0.001\n",
        "epochs = 500"
      ],
      "execution_count": 19,
      "outputs": []
    },
    {
      "cell_type": "code",
      "metadata": {
        "id": "Hi73hX3P_szl",
        "colab_type": "code",
        "colab": {}
      },
      "source": [
        "with tf.Session() as sess:       \n",
        "    sess.run(init) # first step variable initaliser\n",
        "\n",
        "    for epoch in range(epochs):\n",
        "        for (_x, _y) in zip(x_data, y_label): \n",
        "            sess.run(optimiser,feed_dict = {xph : _x, yph : _y}) \n",
        "    \n",
        "    training_cost = sess.run(cost, feed_dict ={xph: x_data, yph:y_label}) \n",
        "   \n",
        "    we= sess.run(weight)  # better way to deal with such type of situation\n",
        "    bi = sess.run(bias) "
      ],
      "execution_count": 20,
      "outputs": []
    },
    {
      "cell_type": "code",
      "metadata": {
        "id": "LG2ptjOR-0nA",
        "colab_type": "code",
        "colab": {
          "base_uri": "https://localhost:8080/",
          "height": 34
        },
        "outputId": "c3387dba-bd78-4b96-fafb-5fd5bdf4dbf3"
      },
      "source": [
        "print(we)"
      ],
      "execution_count": 21,
      "outputs": [
        {
          "output_type": "stream",
          "text": [
            "0.25777853\n"
          ],
          "name": "stdout"
        }
      ]
    },
    {
      "cell_type": "code",
      "metadata": {
        "id": "ULcUBWz9-3f7",
        "colab_type": "code",
        "colab": {
          "base_uri": "https://localhost:8080/",
          "height": 34
        },
        "outputId": "d01c7d62-d2f5-4176-9b84-2d2d43644753"
      },
      "source": [
        "print(bi)"
      ],
      "execution_count": 22,
      "outputs": [
        {
          "output_type": "stream",
          "text": [
            "3.3473122\n"
          ],
          "name": "stdout"
        }
      ]
    },
    {
      "cell_type": "code",
      "metadata": {
        "id": "tiodIJHDflgk",
        "colab_type": "code",
        "colab": {
          "base_uri": "https://localhost:8080/",
          "height": 51
        },
        "outputId": "e1a864b8-ccdc-4f68-f81c-4cf09c757180"
      },
      "source": [
        "predictions=tf.add(tf.multiply(we,x_data), bi) \n",
        "print(\"Training cost =\", training_cost, \"Weight =\", weight, \"bias =\", bias, '\\n')"
      ],
      "execution_count": 23,
      "outputs": [
        {
          "output_type": "stream",
          "text": [
            "Training cost = 3.29385 Weight = <tf.Variable 'Variable:0' shape=() dtype=float32_ref> bias = <tf.Variable 'Variable_1:0' shape=() dtype=float32_ref> \n",
            "\n"
          ],
          "name": "stdout"
        }
      ]
    },
    {
      "cell_type": "code",
      "metadata": {
        "id": "_QVlyoQzBrpI",
        "colab_type": "code",
        "colab": {
          "base_uri": "https://localhost:8080/",
          "height": 34
        },
        "outputId": "f8610e97-a7f3-4d6f-ec81-4e13601215b5"
      },
      "source": [
        "print(predictions)"
      ],
      "execution_count": 24,
      "outputs": [
        {
          "output_type": "stream",
          "text": [
            "Tensor(\"Add_1:0\", shape=(10,), dtype=float32)\n"
          ],
          "name": "stdout"
        }
      ]
    },
    {
      "cell_type": "code",
      "metadata": {
        "id": "o2_EtiZICDLf",
        "colab_type": "code",
        "colab": {
          "base_uri": "https://localhost:8080/",
          "height": 51
        },
        "outputId": "f8a68353-15bc-4e6f-ea74-91e2002ad9d7"
      },
      "source": [
        "with tf.Session() as sess:\n",
        "  sess.run(init)\n",
        "  op=sess.run(predictions)\n",
        "  print(op)"
      ],
      "execution_count": 25,
      "outputs": [
        {
          "output_type": "stream",
          "text": [
            "[3.7547786 4.213395  4.2955103 4.23962   5.0294247 4.679116  5.2320232\n",
            " 5.7001257 5.782781  6.17758  ]\n"
          ],
          "name": "stdout"
        }
      ]
    },
    {
      "cell_type": "code",
      "metadata": {
        "id": "TOMwHm6wfi1C",
        "colab_type": "code",
        "colab": {
          "base_uri": "https://localhost:8080/",
          "height": 315
        },
        "outputId": "295a484a-62e6-4023-95e3-ce9a389eedaf"
      },
      "source": [
        "with tf.Session() as sess:\n",
        "  sess.run(init)\n",
        "  sp=sess.run(predictions)\n",
        "  print(sp)\n",
        "  plt.plot(x_data, y_label, 'ro', label ='Original data') \n",
        "  plt.plot(x_data, sp, label ='Fitted line') \n",
        "  plt.title('Linear Regression Result') \n"
      ],
      "execution_count": 26,
      "outputs": [
        {
          "output_type": "stream",
          "text": [
            "[3.7547786 4.213395  4.2955103 4.23962   5.0294247 4.679116  5.2320232\n",
            " 5.7001257 5.782781  6.17758  ]\n"
          ],
          "name": "stdout"
        },
        {
          "output_type": "display_data",
          "data": {
            "image/png": "[encoded data removed]",
            "text/plain": [
              "<Figure size 432x288 with 1 Axes>"
            ]
          },
          "metadata": {
            "tags": [],
            "needs_background": "light"
          }
        }
      ]
    },
    {
      "cell_type": "markdown",
      "metadata": {
        "id": "QYYC-wePOULd",
        "colab_type": "text"
      },
      "source": [
        "# extra"
      ]
    },
    {
      "cell_type": "code",
      "metadata": {
        "id": "8tDHs0esP-4O",
        "colab_type": "code",
        "colab": {
          "base_uri": "https://localhost:8080/",
          "height": 442
        },
        "outputId": "27b75a7b-33b0-4044-fbe0-d4af54a4b173"
      },
      "source": [
        "with tf.Session() as sess:       \n",
        "    sess.run(init) # first step variable initaliser\n",
        "\n",
        "    for epoch in range(epochs):\n",
        "        for (_x, _y) in zip(x_data, y_label): \n",
        "            sess.run(optimiser,feed_dict = {xph : _x, yph : _y}) \n",
        "    \n",
        "    training_cost = sess.run(cost, feed_dict ={xph: x_data, yph:y_label}) \n",
        "   \n",
        "    weight= sess.run(weight) # since here both have same name in a statement therfore if we execute it more then 1 it will cause error\n",
        "    bias = sess.run(bias) \n"
      ],
      "execution_count": 21,
      "outputs": [
        {
          "output_type": "error",
          "ename": "TypeError",
          "evalue": "ignored",
          "traceback": [
            "\u001b[0;31m---------------------------------------------------------------------------\u001b[0m",
            "\u001b[0;31mTypeError\u001b[0m                                 Traceback (most recent call last)",
            "\u001b[0;32m/tensorflow-1.15.2/python3.6/tensorflow_core/python/client/session.py\u001b[0m in \u001b[0;36m__init__\u001b[0;34m(self, fetches, contraction_fn)\u001b[0m\n\u001b[1;32m    304\u001b[0m         self._unique_fetches.append(ops.get_default_graph().as_graph_element(\n\u001b[0;32m--> 305\u001b[0;31m             fetch, allow_tensor=True, allow_operation=True))\n\u001b[0m\u001b[1;32m    306\u001b[0m       \u001b[0;32mexcept\u001b[0m \u001b[0mTypeError\u001b[0m \u001b[0;32mas\u001b[0m \u001b[0me\u001b[0m\u001b[0;34m:\u001b[0m\u001b[0;34m\u001b[0m\u001b[0;34m\u001b[0m\u001b[0m\n",
            "\u001b[0;32m/tensorflow-1.15.2/python3.6/tensorflow_core/python/framework/ops.py\u001b[0m in \u001b[0;36mas_graph_element\u001b[0;34m(self, obj, allow_tensor, allow_operation)\u001b[0m\n\u001b[1;32m   3606\u001b[0m     \u001b[0;32mwith\u001b[0m \u001b[0mself\u001b[0m\u001b[0;34m.\u001b[0m\u001b[0m_lock\u001b[0m\u001b[0;34m:\u001b[0m\u001b[0;34m\u001b[0m\u001b[0;34m\u001b[0m\u001b[0m\n\u001b[0;32m-> 3607\u001b[0;31m       \u001b[0;32mreturn\u001b[0m \u001b[0mself\u001b[0m\u001b[0;34m.\u001b[0m\u001b[0m_as_graph_element_locked\u001b[0m\u001b[0;34m(\u001b[0m\u001b[0mobj\u001b[0m\u001b[0;34m,\u001b[0m \u001b[0mallow_tensor\u001b[0m\u001b[0;34m,\u001b[0m \u001b[0mallow_operation\u001b[0m\u001b[0;34m)\u001b[0m\u001b[0;34m\u001b[0m\u001b[0;34m\u001b[0m\u001b[0m\n\u001b[0m\u001b[1;32m   3608\u001b[0m \u001b[0;34m\u001b[0m\u001b[0m\n",
            "\u001b[0;32m/tensorflow-1.15.2/python3.6/tensorflow_core/python/framework/ops.py\u001b[0m in \u001b[0;36m_as_graph_element_locked\u001b[0;34m(self, obj, allow_tensor, allow_operation)\u001b[0m\n\u001b[1;32m   3695\u001b[0m       raise TypeError(\"Can not convert a %s into a %s.\" %\n\u001b[0;32m-> 3696\u001b[0;31m                       (type(obj).__name__, types_str))\n\u001b[0m\u001b[1;32m   3697\u001b[0m \u001b[0;34m\u001b[0m\u001b[0m\n",
            "\u001b[0;31mTypeError\u001b[0m: Can not convert a float32 into a Tensor or Operation.",
            "\nDuring handling of the above exception, another exception occurred:\n",
            "\u001b[0;31mTypeError\u001b[0m                                 Traceback (most recent call last)",
            "\u001b[0;32m<ipython-input-21-ba033ec535ee>\u001b[0m in \u001b[0;36m<module>\u001b[0;34m()\u001b[0m\n\u001b[1;32m      8\u001b[0m     \u001b[0mtraining_cost\u001b[0m \u001b[0;34m=\u001b[0m \u001b[0msess\u001b[0m\u001b[0;34m.\u001b[0m\u001b[0mrun\u001b[0m\u001b[0;34m(\u001b[0m\u001b[0mcost\u001b[0m\u001b[0;34m,\u001b[0m \u001b[0mfeed_dict\u001b[0m \u001b[0;34m=\u001b[0m\u001b[0;34m{\u001b[0m\u001b[0mxph\u001b[0m\u001b[0;34m:\u001b[0m \u001b[0mx_data\u001b[0m\u001b[0;34m,\u001b[0m \u001b[0myph\u001b[0m\u001b[0;34m:\u001b[0m\u001b[0my_label\u001b[0m\u001b[0;34m}\u001b[0m\u001b[0;34m)\u001b[0m\u001b[0;34m\u001b[0m\u001b[0;34m\u001b[0m\u001b[0m\n\u001b[1;32m      9\u001b[0m \u001b[0;34m\u001b[0m\u001b[0m\n\u001b[0;32m---> 10\u001b[0;31m     \u001b[0mweight\u001b[0m\u001b[0;34m=\u001b[0m \u001b[0msess\u001b[0m\u001b[0;34m.\u001b[0m\u001b[0mrun\u001b[0m\u001b[0;34m(\u001b[0m\u001b[0mweight\u001b[0m\u001b[0;34m)\u001b[0m \u001b[0;31m# since here both have\u001b[0m\u001b[0;34m\u001b[0m\u001b[0;34m\u001b[0m\u001b[0m\n\u001b[0m\u001b[1;32m     11\u001b[0m     \u001b[0mbias\u001b[0m \u001b[0;34m=\u001b[0m \u001b[0msess\u001b[0m\u001b[0;34m.\u001b[0m\u001b[0mrun\u001b[0m\u001b[0;34m(\u001b[0m\u001b[0mbias\u001b[0m\u001b[0;34m)\u001b[0m\u001b[0;34m\u001b[0m\u001b[0;34m\u001b[0m\u001b[0m\n",
            "\u001b[0;32m/tensorflow-1.15.2/python3.6/tensorflow_core/python/client/session.py\u001b[0m in \u001b[0;36mrun\u001b[0;34m(self, fetches, feed_dict, options, run_metadata)\u001b[0m\n\u001b[1;32m    954\u001b[0m     \u001b[0;32mtry\u001b[0m\u001b[0;34m:\u001b[0m\u001b[0;34m\u001b[0m\u001b[0;34m\u001b[0m\u001b[0m\n\u001b[1;32m    955\u001b[0m       result = self._run(None, fetches, feed_dict, options_ptr,\n\u001b[0;32m--> 956\u001b[0;31m                          run_metadata_ptr)\n\u001b[0m\u001b[1;32m    957\u001b[0m       \u001b[0;32mif\u001b[0m \u001b[0mrun_metadata\u001b[0m\u001b[0;34m:\u001b[0m\u001b[0;34m\u001b[0m\u001b[0;34m\u001b[0m\u001b[0m\n\u001b[1;32m    958\u001b[0m         \u001b[0mproto_data\u001b[0m \u001b[0;34m=\u001b[0m \u001b[0mtf_session\u001b[0m\u001b[0;34m.\u001b[0m\u001b[0mTF_GetBuffer\u001b[0m\u001b[0;34m(\u001b[0m\u001b[0mrun_metadata_ptr\u001b[0m\u001b[0;34m)\u001b[0m\u001b[0;34m\u001b[0m\u001b[0;34m\u001b[0m\u001b[0m\n",
            "\u001b[0;32m/tensorflow-1.15.2/python3.6/tensorflow_core/python/client/session.py\u001b[0m in \u001b[0;36m_run\u001b[0;34m(self, handle, fetches, feed_dict, options, run_metadata)\u001b[0m\n\u001b[1;32m   1163\u001b[0m     \u001b[0;31m# Create a fetch handler to take care of the structure of fetches.\u001b[0m\u001b[0;34m\u001b[0m\u001b[0;34m\u001b[0m\u001b[0;34m\u001b[0m\u001b[0m\n\u001b[1;32m   1164\u001b[0m     fetch_handler = _FetchHandler(\n\u001b[0;32m-> 1165\u001b[0;31m         self._graph, fetches, feed_dict_tensor, feed_handles=feed_handles)\n\u001b[0m\u001b[1;32m   1166\u001b[0m \u001b[0;34m\u001b[0m\u001b[0m\n\u001b[1;32m   1167\u001b[0m     \u001b[0;31m# Run request and get response.\u001b[0m\u001b[0;34m\u001b[0m\u001b[0;34m\u001b[0m\u001b[0;34m\u001b[0m\u001b[0m\n",
            "\u001b[0;32m/tensorflow-1.15.2/python3.6/tensorflow_core/python/client/session.py\u001b[0m in \u001b[0;36m__init__\u001b[0;34m(self, graph, fetches, feeds, feed_handles)\u001b[0m\n\u001b[1;32m    472\u001b[0m     \"\"\"\n\u001b[1;32m    473\u001b[0m     \u001b[0;32mwith\u001b[0m \u001b[0mgraph\u001b[0m\u001b[0;34m.\u001b[0m\u001b[0mas_default\u001b[0m\u001b[0;34m(\u001b[0m\u001b[0;34m)\u001b[0m\u001b[0;34m:\u001b[0m\u001b[0;34m\u001b[0m\u001b[0;34m\u001b[0m\u001b[0m\n\u001b[0;32m--> 474\u001b[0;31m       \u001b[0mself\u001b[0m\u001b[0;34m.\u001b[0m\u001b[0m_fetch_mapper\u001b[0m \u001b[0;34m=\u001b[0m \u001b[0m_FetchMapper\u001b[0m\u001b[0;34m.\u001b[0m\u001b[0mfor_fetch\u001b[0m\u001b[0;34m(\u001b[0m\u001b[0mfetches\u001b[0m\u001b[0;34m)\u001b[0m\u001b[0;34m\u001b[0m\u001b[0;34m\u001b[0m\u001b[0m\n\u001b[0m\u001b[1;32m    475\u001b[0m     \u001b[0mself\u001b[0m\u001b[0;34m.\u001b[0m\u001b[0m_fetches\u001b[0m \u001b[0;34m=\u001b[0m \u001b[0;34m[\u001b[0m\u001b[0;34m]\u001b[0m\u001b[0;34m\u001b[0m\u001b[0;34m\u001b[0m\u001b[0m\n\u001b[1;32m    476\u001b[0m     \u001b[0mself\u001b[0m\u001b[0;34m.\u001b[0m\u001b[0m_targets\u001b[0m \u001b[0;34m=\u001b[0m \u001b[0;34m[\u001b[0m\u001b[0;34m]\u001b[0m\u001b[0;34m\u001b[0m\u001b[0;34m\u001b[0m\u001b[0m\n",
            "\u001b[0;32m/tensorflow-1.15.2/python3.6/tensorflow_core/python/client/session.py\u001b[0m in \u001b[0;36mfor_fetch\u001b[0;34m(fetch)\u001b[0m\n\u001b[1;32m    274\u001b[0m         \u001b[0;32mif\u001b[0m \u001b[0misinstance\u001b[0m\u001b[0;34m(\u001b[0m\u001b[0mfetch\u001b[0m\u001b[0;34m,\u001b[0m \u001b[0mtensor_type\u001b[0m\u001b[0;34m)\u001b[0m\u001b[0;34m:\u001b[0m\u001b[0;34m\u001b[0m\u001b[0;34m\u001b[0m\u001b[0m\n\u001b[1;32m    275\u001b[0m           \u001b[0mfetches\u001b[0m\u001b[0;34m,\u001b[0m \u001b[0mcontraction_fn\u001b[0m \u001b[0;34m=\u001b[0m \u001b[0mfetch_fn\u001b[0m\u001b[0;34m(\u001b[0m\u001b[0mfetch\u001b[0m\u001b[0;34m)\u001b[0m\u001b[0;34m\u001b[0m\u001b[0;34m\u001b[0m\u001b[0m\n\u001b[0;32m--> 276\u001b[0;31m           \u001b[0;32mreturn\u001b[0m \u001b[0m_ElementFetchMapper\u001b[0m\u001b[0;34m(\u001b[0m\u001b[0mfetches\u001b[0m\u001b[0;34m,\u001b[0m \u001b[0mcontraction_fn\u001b[0m\u001b[0;34m)\u001b[0m\u001b[0;34m\u001b[0m\u001b[0;34m\u001b[0m\u001b[0m\n\u001b[0m\u001b[1;32m    277\u001b[0m     \u001b[0;31m# Did not find anything.\u001b[0m\u001b[0;34m\u001b[0m\u001b[0;34m\u001b[0m\u001b[0;34m\u001b[0m\u001b[0m\n\u001b[1;32m    278\u001b[0m     raise TypeError('Fetch argument %r has invalid type %r' %\n",
            "\u001b[0;32m/tensorflow-1.15.2/python3.6/tensorflow_core/python/client/session.py\u001b[0m in \u001b[0;36m__init__\u001b[0;34m(self, fetches, contraction_fn)\u001b[0m\n\u001b[1;32m    307\u001b[0m         raise TypeError('Fetch argument %r has invalid type %r, '\n\u001b[1;32m    308\u001b[0m                         \u001b[0;34m'must be a string or Tensor. (%s)'\u001b[0m \u001b[0;34m%\u001b[0m\u001b[0;34m\u001b[0m\u001b[0;34m\u001b[0m\u001b[0m\n\u001b[0;32m--> 309\u001b[0;31m                         (fetch, type(fetch), str(e)))\n\u001b[0m\u001b[1;32m    310\u001b[0m       \u001b[0;32mexcept\u001b[0m \u001b[0mValueError\u001b[0m \u001b[0;32mas\u001b[0m \u001b[0me\u001b[0m\u001b[0;34m:\u001b[0m\u001b[0;34m\u001b[0m\u001b[0;34m\u001b[0m\u001b[0m\n\u001b[1;32m    311\u001b[0m         raise ValueError('Fetch argument %r cannot be interpreted as a '\n",
            "\u001b[0;31mTypeError\u001b[0m: Fetch argument 0.19854148 has invalid type <class 'numpy.float32'>, must be a string or Tensor. (Can not convert a float32 into a Tensor or Operation.)"
          ]
        }
      ]
    },
    {
      "cell_type": "code",
      "metadata": {
        "id": "nS0KObYj9Uvv",
        "colab_type": "code",
        "colab": {
          "base_uri": "https://localhost:8080/",
          "height": 34
        },
        "outputId": "09e368bc-b54e-41e0-9c47-803aecec3d11"
      },
      "source": [
        "so=tf.math.subtract([1],[2,3,4])\n",
        "with tf.Session() as sess:\n",
        "  g=sess.run(so)\n",
        "print(g)"
      ],
      "execution_count": 28,
      "outputs": [
        {
          "output_type": "stream",
          "text": [
            "[-1 -2 -3]\n"
          ],
          "name": "stdout"
        }
      ]
    },
    {
      "cell_type": "code",
      "metadata": {
        "id": "tj-LFyNO-rmm",
        "colab_type": "code",
        "colab": {
          "base_uri": "https://localhost:8080/",
          "height": 34
        },
        "outputId": "fa2108b3-9b5d-4b71-a121-0da282133cd5"
      },
      "source": [
        "\n",
        "so2=tf.reduce_sum([2,3,4])\n",
        "with tf.Session() as sess:\n",
        "  gt=sess.run(so2)\n",
        "print(gt)\n"
      ],
      "execution_count": 29,
      "outputs": [
        {
          "output_type": "stream",
          "text": [
            "9\n"
          ],
          "name": "stdout"
        }
      ]
    },
    {
      "cell_type": "code",
      "metadata": {
        "id": "2OJqKldtVxCP",
        "colab_type": "code",
        "colab": {}
      },
      "source": [
        "var1=tf.Variable(57)\n",
        "init=tf.global_variables_initializer()"
      ],
      "execution_count": 31,
      "outputs": []
    },
    {
      "cell_type": "code",
      "metadata": {
        "id": "n7e77E-8V3NQ",
        "colab_type": "code",
        "colab": {
          "base_uri": "https://localhost:8080/",
          "height": 34
        },
        "outputId": "ee40266d-81b9-41e9-ea1c-b7e2c662416c"
      },
      "source": [
        "with tf.Session() as sess:\n",
        "  sess.run(init)\n",
        "  f=sess.run(var1)\n",
        "print(f)"
      ],
      "execution_count": 32,
      "outputs": [
        {
          "output_type": "stream",
          "text": [
            "57\n"
          ],
          "name": "stdout"
        }
      ]
    },
    {
      "cell_type": "code",
      "metadata": {
        "id": "VWJpeWLxV3IE",
        "colab_type": "code",
        "colab": {}
      },
      "source": [
        ""
      ],
      "execution_count": null,
      "outputs": []
    },
    {
      "cell_type": "code",
      "metadata": {
        "id": "J-THFcQ9Vw41",
        "colab_type": "code",
        "colab": {}
      },
      "source": [
        ""
      ],
      "execution_count": null,
      "outputs": []
    },
    {
      "cell_type": "code",
      "metadata": {
        "id": "XrhOWEvDVw2t",
        "colab_type": "code",
        "colab": {}
      },
      "source": [
        ""
      ],
      "execution_count": null,
      "outputs": []
    },
    {
      "cell_type": "markdown",
      "metadata": {
        "id": "uy3XD9HKAIg6",
        "colab_type": "text"
      },
      "source": [
        "# explanation"
      ]
    },
    {
      "cell_type": "code",
      "metadata": {
        "id": "CeXZnSsY6uTF",
        "colab_type": "code",
        "colab": {}
      },
      "source": [
        " for (_x, _y) in zip(x_data, y_label): \n",
        "   print(_x,_y)  # to print every element we need to use loop\n",
        "print(_x) # if printed outside it will the last element "
      ],
      "execution_count": null,
      "outputs": []
    },
    {
      "cell_type": "code",
      "metadata": {
        "id": "ZQaUOkwP9RGB",
        "colab_type": "code",
        "colab": {}
      },
      "source": [
        "for _x in x_data:\n",
        "  print(_x)"
      ],
      "execution_count": null,
      "outputs": []
    },
    {
      "cell_type": "code",
      "metadata": {
        "id": "VVOPyL6267FA",
        "colab_type": "code",
        "colab": {}
      },
      "source": [
        "g=tf.placeholder(tf.float32)\n",
        "p=tf.placeholder(tf.float32)"
      ],
      "execution_count": null,
      "outputs": []
    },
    {
      "cell_type": "code",
      "metadata": {
        "id": "T4t1FS247Fgc",
        "colab_type": "code",
        "colab": {}
      },
      "source": [
        "add=g+p"
      ],
      "execution_count": null,
      "outputs": []
    },
    {
      "cell_type": "code",
      "metadata": {
        "id": "mkxB7Kso7FdK",
        "colab_type": "code",
        "colab": {}
      },
      "source": [
        "with tf.Session() as sess:\n",
        "  for (_x, _y) in zip(x_data, y_label): \n",
        "    add_result=sess.run(add,feed_dict={g:_x,p:_y}) # last element of both these two list added"
      ],
      "execution_count": null,
      "outputs": []
    },
    {
      "cell_type": "code",
      "metadata": {
        "id": "YlggH9GB7KA6",
        "colab_type": "code",
        "colab": {}
      },
      "source": [
        "print(add_result)"
      ],
      "execution_count": null,
      "outputs": []
    },
    {
      "cell_type": "code",
      "metadata": {
        "id": "SjMIyLcrP9-X",
        "colab_type": "code",
        "colab": {}
      },
      "source": [
        ""
      ],
      "execution_count": null,
      "outputs": []
    },
    {
      "cell_type": "markdown",
      "metadata": {
        "id": "ylImspr7gqaa",
        "colab_type": "text"
      },
      "source": [
        "# 1\n"
      ]
    },
    {
      "cell_type": "code",
      "metadata": {
        "id": "mVs5iesygxz4",
        "colab_type": "code",
        "colab": {}
      },
      "source": [
        "learning_rate = 0.001\n",
        "epochs = 500"
      ],
      "execution_count": null,
      "outputs": []
    },
    {
      "cell_type": "code",
      "metadata": {
        "id": "H93SANs3gp7U",
        "colab_type": "code",
        "colab": {}
      },
      "source": [
        "with tf.Session() as sess:       \n",
        "    sess.run(init) # first step variable initaliser\n",
        "\n",
        "    for epoch in range(epochs):\n",
        "        for (_x, _y) in zip(x_data, y_label): \n",
        "            sess.run(optimiser,feed_dict = {xph : _x, yph : _y}) \n",
        "    \n",
        "    training_cost = sess.run(cost, feed_dict ={xph: x_data, yph:y_label}) \n",
        "    weight = sess.run(W) \n",
        "    bias = sess.run(b) \n",
        "  \n"
      ],
      "execution_count": null,
      "outputs": []
    },
    {
      "cell_type": "code",
      "metadata": {
        "id": "pl0Vt-2shkZv",
        "colab_type": "code",
        "colab": {}
      },
      "source": [
        "init=tf.global_variables_initializer()\n",
        "with tf.Session() as sess:\n",
        "  sess.run(init)\n",
        "  weight = sess.run(W) \n",
        "  bias = sess.run(b) \n",
        "  "
      ],
      "execution_count": null,
      "outputs": []
    },
    {
      "cell_type": "code",
      "metadata": {
        "id": "mur9aTTw-VfM",
        "colab_type": "code",
        "colab": {}
      },
      "source": [
        ""
      ],
      "execution_count": null,
      "outputs": []
    },
    {
      "cell_type": "code",
      "metadata": {
        "id": "PiFbgYT4P97S",
        "colab_type": "code",
        "colab": {
          "base_uri": "https://localhost:8080/",
          "height": 51
        },
        "outputId": "9d2726ac-37fa-4d92-9c45-9fcb48ecfaa2"
      },
      "source": [
        "predictions = weight * x_data + bias \n",
        "print(\"Training cost =\", training_cost, \"Weight =\", weight, \"bias =\", bias, '\\n')"
      ],
      "execution_count": null,
      "outputs": [
        {
          "output_type": "stream",
          "text": [
            "Training cost = 1.8138088 Weight = 0.1 bias = 0.01 \n",
            "\n"
          ],
          "name": "stdout"
        }
      ]
    },
    {
      "cell_type": "code",
      "metadata": {
        "id": "WupugRDYg_v0",
        "colab_type": "code",
        "colab": {
          "base_uri": "https://localhost:8080/",
          "height": 298
        },
        "outputId": "313714b2-a98a-4f78-fafd-cde8dba33265"
      },
      "source": [
        "plt.plot(x_data, y_label, 'ro', label ='Original data') \n",
        "plt.plot(x_data, predictions, label ='Fitted line') \n",
        "plt.title('Linear Regression Result') "
      ],
      "execution_count": null,
      "outputs": [
        {
          "output_type": "execute_result",
          "data": {
            "text/plain": [
              "Text(0.5, 1.0, 'Linear Regression Result')"
            ]
          },
          "metadata": {
            "tags": []
          },
          "execution_count": 67
        },
        {
          "output_type": "display_data",
          "data": {
            "image/png": "[encoded data removed]",
            "text/plain": [
              "<Figure size 432x288 with 1 Axes>"
            ]
          },
          "metadata": {
            "tags": [],
            "needs_background": "light"
          }
        }
      ]
    },
    {
      "cell_type": "code",
      "metadata": {
        "id": "tnMfuuDDg_rq",
        "colab_type": "code",
        "colab": {}
      },
      "source": [
        ""
      ],
      "execution_count": null,
      "outputs": []
    }
  ]
}